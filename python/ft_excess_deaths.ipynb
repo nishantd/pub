{
 "cells": [
  {
   "cell_type": "code",
   "execution_count": 1,
   "metadata": {},
   "outputs": [],
   "source": [
    "import pandas as pd\n",
    "import numpy as np\n",
    "import scipy as sp\n",
    "import math\n",
    "import matplotlib\n",
    "import matplotlib.pyplot as plt\n"
   ]
  },
  {
   "cell_type": "code",
   "execution_count": 19,
   "metadata": {},
   "outputs": [],
   "source": [
    "import datetime\n",
    "import dateutil"
   ]
  },
  {
   "cell_type": "code",
   "execution_count": 2,
   "metadata": {},
   "outputs": [],
   "source": [
    "df = pd.read_csv('/Users/nishant.deshpande/personal/coronavirus-excess-mortality-data/data/ft_excess_deaths.csv')"
   ]
  },
  {
   "cell_type": "code",
   "execution_count": 15,
   "metadata": {},
   "outputs": [
    {
     "data": {
      "text/html": [
       "<div>\n",
       "<style scoped>\n",
       "    .dataframe tbody tr th:only-of-type {\n",
       "        vertical-align: middle;\n",
       "    }\n",
       "\n",
       "    .dataframe tbody tr th {\n",
       "        vertical-align: top;\n",
       "    }\n",
       "\n",
       "    .dataframe thead th {\n",
       "        text-align: right;\n",
       "    }\n",
       "</style>\n",
       "<table border=\"1\" class=\"dataframe\">\n",
       "  <thead>\n",
       "    <tr style=\"text-align: right;\">\n",
       "      <th></th>\n",
       "      <th>country</th>\n",
       "      <th>region</th>\n",
       "      <th>period</th>\n",
       "      <th>year</th>\n",
       "      <th>month</th>\n",
       "      <th>week</th>\n",
       "      <th>date</th>\n",
       "      <th>deaths</th>\n",
       "      <th>expected_deaths</th>\n",
       "      <th>excess_deaths</th>\n",
       "      <th>excess_deaths_pct</th>\n",
       "    </tr>\n",
       "  </thead>\n",
       "  <tbody>\n",
       "    <tr>\n",
       "      <th>0</th>\n",
       "      <td>Italy</td>\n",
       "      <td>Bergamo city</td>\n",
       "      <td>week</td>\n",
       "      <td>2015</td>\n",
       "      <td>1</td>\n",
       "      <td>2.0</td>\n",
       "      <td>2015-01-15</td>\n",
       "      <td>39.0</td>\n",
       "      <td>36.0</td>\n",
       "      <td>3.0</td>\n",
       "      <td>8.333333</td>\n",
       "    </tr>\n",
       "    <tr>\n",
       "      <th>1</th>\n",
       "      <td>Italy</td>\n",
       "      <td>Bergamo city</td>\n",
       "      <td>week</td>\n",
       "      <td>2015</td>\n",
       "      <td>1</td>\n",
       "      <td>3.0</td>\n",
       "      <td>2015-01-22</td>\n",
       "      <td>31.0</td>\n",
       "      <td>31.0</td>\n",
       "      <td>0.0</td>\n",
       "      <td>0.000000</td>\n",
       "    </tr>\n",
       "    <tr>\n",
       "      <th>2</th>\n",
       "      <td>Italy</td>\n",
       "      <td>Bergamo city</td>\n",
       "      <td>week</td>\n",
       "      <td>2015</td>\n",
       "      <td>1</td>\n",
       "      <td>4.0</td>\n",
       "      <td>2015-01-29</td>\n",
       "      <td>41.0</td>\n",
       "      <td>39.0</td>\n",
       "      <td>2.0</td>\n",
       "      <td>5.128205</td>\n",
       "    </tr>\n",
       "    <tr>\n",
       "      <th>3</th>\n",
       "      <td>Italy</td>\n",
       "      <td>Bergamo city</td>\n",
       "      <td>week</td>\n",
       "      <td>2015</td>\n",
       "      <td>2</td>\n",
       "      <td>5.0</td>\n",
       "      <td>2015-02-05</td>\n",
       "      <td>31.0</td>\n",
       "      <td>31.0</td>\n",
       "      <td>0.0</td>\n",
       "      <td>0.000000</td>\n",
       "    </tr>\n",
       "    <tr>\n",
       "      <th>4</th>\n",
       "      <td>Italy</td>\n",
       "      <td>Bergamo city</td>\n",
       "      <td>week</td>\n",
       "      <td>2015</td>\n",
       "      <td>2</td>\n",
       "      <td>6.0</td>\n",
       "      <td>2015-02-12</td>\n",
       "      <td>38.0</td>\n",
       "      <td>35.0</td>\n",
       "      <td>3.0</td>\n",
       "      <td>8.571429</td>\n",
       "    </tr>\n",
       "  </tbody>\n",
       "</table>\n",
       "</div>"
      ],
      "text/plain": [
       "  country        region period  year  month  week        date  deaths  \\\n",
       "0   Italy  Bergamo city   week  2015      1   2.0  2015-01-15    39.0   \n",
       "1   Italy  Bergamo city   week  2015      1   3.0  2015-01-22    31.0   \n",
       "2   Italy  Bergamo city   week  2015      1   4.0  2015-01-29    41.0   \n",
       "3   Italy  Bergamo city   week  2015      2   5.0  2015-02-05    31.0   \n",
       "4   Italy  Bergamo city   week  2015      2   6.0  2015-02-12    38.0   \n",
       "\n",
       "   expected_deaths  excess_deaths  excess_deaths_pct  \n",
       "0             36.0            3.0           8.333333  \n",
       "1             31.0            0.0           0.000000  \n",
       "2             39.0            2.0           5.128205  \n",
       "3             31.0            0.0           0.000000  \n",
       "4             35.0            3.0           8.571429  "
      ]
     },
     "execution_count": 15,
     "metadata": {},
     "output_type": "execute_result"
    }
   ],
   "source": [
    "df.head(5)"
   ]
  },
  {
   "cell_type": "code",
   "execution_count": 18,
   "metadata": {},
   "outputs": [
    {
     "data": {
      "text/plain": [
       "0        2015-01-15\n",
       "1        2015-01-22\n",
       "2        2015-01-29\n",
       "3        2015-02-05\n",
       "4        2015-02-12\n",
       "            ...    \n",
       "55726    2020-05-31\n",
       "55727    2020-06-07\n",
       "55728    2020-06-14\n",
       "55729    2020-06-21\n",
       "55730    2020-06-28\n",
       "Name: date, Length: 55731, dtype: object"
      ]
     },
     "execution_count": 18,
     "metadata": {},
     "output_type": "execute_result"
    }
   ],
   "source": [
    "df.date"
   ]
  },
  {
   "cell_type": "code",
   "execution_count": 28,
   "metadata": {},
   "outputs": [
    {
     "data": {
      "text/html": [
       "<div>\n",
       "<style scoped>\n",
       "    .dataframe tbody tr th:only-of-type {\n",
       "        vertical-align: middle;\n",
       "    }\n",
       "\n",
       "    .dataframe tbody tr th {\n",
       "        vertical-align: top;\n",
       "    }\n",
       "\n",
       "    .dataframe thead th {\n",
       "        text-align: right;\n",
       "    }\n",
       "</style>\n",
       "<table border=\"1\" class=\"dataframe\">\n",
       "  <thead>\n",
       "    <tr style=\"text-align: right;\">\n",
       "      <th></th>\n",
       "      <th>year</th>\n",
       "      <th>month</th>\n",
       "      <th>week</th>\n",
       "      <th>deaths</th>\n",
       "      <th>expected_deaths</th>\n",
       "      <th>excess_deaths</th>\n",
       "      <th>excess_deaths_pct</th>\n",
       "    </tr>\n",
       "  </thead>\n",
       "  <tbody>\n",
       "    <tr>\n",
       "      <th>count</th>\n",
       "      <td>55731.000000</td>\n",
       "      <td>55731.000000</td>\n",
       "      <td>55361.000000</td>\n",
       "      <td>55724.000000</td>\n",
       "      <td>55731.000000</td>\n",
       "      <td>55724.000000</td>\n",
       "      <td>55724.000000</td>\n",
       "    </tr>\n",
       "    <tr>\n",
       "      <th>mean</th>\n",
       "      <td>2016.306185</td>\n",
       "      <td>6.095441</td>\n",
       "      <td>24.391413</td>\n",
       "      <td>1586.630669</td>\n",
       "      <td>1604.233613</td>\n",
       "      <td>-17.169157</td>\n",
       "      <td>0.459113</td>\n",
       "    </tr>\n",
       "    <tr>\n",
       "      <th>std</th>\n",
       "      <td>2.686861</td>\n",
       "      <td>3.396728</td>\n",
       "      <td>14.769845</td>\n",
       "      <td>4911.046039</td>\n",
       "      <td>4957.316067</td>\n",
       "      <td>444.681359</td>\n",
       "      <td>26.626701</td>\n",
       "    </tr>\n",
       "    <tr>\n",
       "      <th>min</th>\n",
       "      <td>2010.000000</td>\n",
       "      <td>1.000000</td>\n",
       "      <td>1.000000</td>\n",
       "      <td>1.000000</td>\n",
       "      <td>1.000000</td>\n",
       "      <td>-6065.000000</td>\n",
       "      <td>-95.145631</td>\n",
       "    </tr>\n",
       "    <tr>\n",
       "      <th>25%</th>\n",
       "      <td>2014.000000</td>\n",
       "      <td>3.000000</td>\n",
       "      <td>12.000000</td>\n",
       "      <td>119.000000</td>\n",
       "      <td>118.000000</td>\n",
       "      <td>-27.000000</td>\n",
       "      <td>-6.448572</td>\n",
       "    </tr>\n",
       "    <tr>\n",
       "      <th>50%</th>\n",
       "      <td>2017.000000</td>\n",
       "      <td>6.000000</td>\n",
       "      <td>23.000000</td>\n",
       "      <td>605.500000</td>\n",
       "      <td>611.000000</td>\n",
       "      <td>0.000000</td>\n",
       "      <td>0.000000</td>\n",
       "    </tr>\n",
       "    <tr>\n",
       "      <th>75%</th>\n",
       "      <td>2018.000000</td>\n",
       "      <td>9.000000</td>\n",
       "      <td>37.000000</td>\n",
       "      <td>1204.000000</td>\n",
       "      <td>1217.000000</td>\n",
       "      <td>9.000000</td>\n",
       "      <td>2.922899</td>\n",
       "    </tr>\n",
       "    <tr>\n",
       "      <th>max</th>\n",
       "      <td>2020.000000</td>\n",
       "      <td>12.000000</td>\n",
       "      <td>52.000000</td>\n",
       "      <td>78296.000000</td>\n",
       "      <td>60980.000000</td>\n",
       "      <td>23435.000000</td>\n",
       "      <td>1400.000000</td>\n",
       "    </tr>\n",
       "  </tbody>\n",
       "</table>\n",
       "</div>"
      ],
      "text/plain": [
       "               year         month          week        deaths  \\\n",
       "count  55731.000000  55731.000000  55361.000000  55724.000000   \n",
       "mean    2016.306185      6.095441     24.391413   1586.630669   \n",
       "std        2.686861      3.396728     14.769845   4911.046039   \n",
       "min     2010.000000      1.000000      1.000000      1.000000   \n",
       "25%     2014.000000      3.000000     12.000000    119.000000   \n",
       "50%     2017.000000      6.000000     23.000000    605.500000   \n",
       "75%     2018.000000      9.000000     37.000000   1204.000000   \n",
       "max     2020.000000     12.000000     52.000000  78296.000000   \n",
       "\n",
       "       expected_deaths  excess_deaths  excess_deaths_pct  \n",
       "count     55731.000000   55724.000000       55724.000000  \n",
       "mean       1604.233613     -17.169157           0.459113  \n",
       "std        4957.316067     444.681359          26.626701  \n",
       "min           1.000000   -6065.000000         -95.145631  \n",
       "25%         118.000000     -27.000000          -6.448572  \n",
       "50%         611.000000       0.000000           0.000000  \n",
       "75%        1217.000000       9.000000           2.922899  \n",
       "max       60980.000000   23435.000000        1400.000000  "
      ]
     },
     "execution_count": 28,
     "metadata": {},
     "output_type": "execute_result"
    }
   ],
   "source": [
    "df.describe()"
   ]
  },
  {
   "cell_type": "code",
   "execution_count": 26,
   "metadata": {},
   "outputs": [
    {
     "data": {
      "text/plain": [
       "Index(['country', 'region', 'period', 'year', 'month', 'week', 'date',\n",
       "       'deaths', 'expected_deaths', 'excess_deaths', 'excess_deaths_pct',\n",
       "       'dt'],\n",
       "      dtype='object')"
      ]
     },
     "execution_count": 26,
     "metadata": {},
     "output_type": "execute_result"
    }
   ],
   "source": [
    "df.columns"
   ]
  },
  {
   "cell_type": "code",
   "execution_count": 82,
   "metadata": {},
   "outputs": [
    {
     "data": {
      "text/plain": [
       "array(['Italy', 'Netherlands', 'Ecuador', 'Spain', 'France', 'Turkey',\n",
       "       'Indonesia', 'Russia', 'Brazil', 'Peru', 'Chile', 'Mexico', 'US',\n",
       "       'UK', 'Belgium', 'Portugal', 'Denmark', 'Austria', 'Germany',\n",
       "       'Sweden', 'South Africa', 'Norway', 'Israel', 'Iceland',\n",
       "       'Switzerland'], dtype=object)"
      ]
     },
     "execution_count": 82,
     "metadata": {},
     "output_type": "execute_result"
    }
   ],
   "source": [
    "df.country.unique()"
   ]
  },
  {
   "cell_type": "code",
   "execution_count": null,
   "metadata": {},
   "outputs": [],
   "source": []
  },
  {
   "cell_type": "code",
   "execution_count": 27,
   "metadata": {},
   "outputs": [
    {
     "data": {
      "text/plain": [
       "0       2015-01-15\n",
       "1       2015-01-22\n",
       "2       2015-01-29\n",
       "3       2015-02-05\n",
       "4       2015-02-12\n",
       "           ...    \n",
       "55726   2020-05-31\n",
       "55727   2020-06-07\n",
       "55728   2020-06-14\n",
       "55729   2020-06-21\n",
       "55730   2020-06-28\n",
       "Name: dt, Length: 55731, dtype: datetime64[ns]"
      ]
     },
     "execution_count": 27,
     "metadata": {},
     "output_type": "execute_result"
    }
   ],
   "source": [
    "df.dt"
   ]
  },
  {
   "cell_type": "code",
   "execution_count": 38,
   "metadata": {},
   "outputs": [
    {
     "name": "stderr",
     "output_type": "stream",
     "text": [
      "/Users/nishant.deshpande/anaconda3/lib/python3.7/site-packages/ipykernel_launcher.py:1: FutureWarning: Indexing with multiple keys (implicitly converted to a tuple of keys) will be deprecated, use a list instead.\n",
      "  \"\"\"Entry point for launching an IPython kernel.\n"
     ]
    }
   ],
   "source": [
    "df_g1 = df.groupby(['country', 'dt'])['deaths', 'expected_deaths', 'excess_deaths'].sum()"
   ]
  },
  {
   "cell_type": "code",
   "execution_count": 47,
   "metadata": {},
   "outputs": [],
   "source": [
    "df_g1 = df_g1.reset_index()"
   ]
  },
  {
   "cell_type": "code",
   "execution_count": 48,
   "metadata": {},
   "outputs": [
    {
     "data": {
      "text/plain": [
       "RangeIndex(start=0, stop=7402, step=1)"
      ]
     },
     "execution_count": 48,
     "metadata": {},
     "output_type": "execute_result"
    }
   ],
   "source": [
    "df_g1.index"
   ]
  },
  {
   "cell_type": "code",
   "execution_count": 49,
   "metadata": {},
   "outputs": [
    {
     "data": {
      "text/plain": [
       "Index(['country', 'dt', 'deaths', 'expected_deaths', 'excess_deaths'], dtype='object')"
      ]
     },
     "execution_count": 49,
     "metadata": {},
     "output_type": "execute_result"
    }
   ],
   "source": [
    "df_g1.columns"
   ]
  },
  {
   "cell_type": "code",
   "execution_count": 52,
   "metadata": {},
   "outputs": [],
   "source": [
    "pd.set_option(\"display.max_rows\", 200)"
   ]
  },
  {
   "cell_type": "code",
   "execution_count": 54,
   "metadata": {},
   "outputs": [],
   "source": [
    "d1 = df_g1[df_g1.country == 'US'].sort_values('dt', ascending=False)"
   ]
  },
  {
   "cell_type": "code",
   "execution_count": 55,
   "metadata": {},
   "outputs": [],
   "source": [
    "d1.set_index('dt', inplace=True)"
   ]
  },
  {
   "cell_type": "code",
   "execution_count": 78,
   "metadata": {},
   "outputs": [
    {
     "data": {
      "text/plain": [
       "(381, 4)"
      ]
     },
     "execution_count": 78,
     "metadata": {},
     "output_type": "execute_result"
    }
   ],
   "source": [
    "d1.shape"
   ]
  },
  {
   "cell_type": "code",
   "execution_count": 76,
   "metadata": {
    "collapsed": true
   },
   "outputs": [
    {
     "data": {
      "text/html": [
       "<div>\n",
       "<style scoped>\n",
       "    .dataframe tbody tr th:only-of-type {\n",
       "        vertical-align: middle;\n",
       "    }\n",
       "\n",
       "    .dataframe tbody tr th {\n",
       "        vertical-align: top;\n",
       "    }\n",
       "\n",
       "    .dataframe thead th {\n",
       "        text-align: right;\n",
       "    }\n",
       "</style>\n",
       "<table border=\"1\" class=\"dataframe\">\n",
       "  <thead>\n",
       "    <tr style=\"text-align: right;\">\n",
       "      <th></th>\n",
       "      <th>country</th>\n",
       "      <th>deaths</th>\n",
       "      <th>expected_deaths</th>\n",
       "      <th>excess_deaths</th>\n",
       "    </tr>\n",
       "    <tr>\n",
       "      <th>dt</th>\n",
       "      <th></th>\n",
       "      <th></th>\n",
       "      <th></th>\n",
       "      <th></th>\n",
       "    </tr>\n",
       "  </thead>\n",
       "  <tbody>\n",
       "    <tr>\n",
       "      <th>2020-06-13</th>\n",
       "      <td>US</td>\n",
       "      <td>83200.0</td>\n",
       "      <td>80850.5</td>\n",
       "      <td>2349.5</td>\n",
       "    </tr>\n",
       "    <tr>\n",
       "      <th>2020-06-06</th>\n",
       "      <td>US</td>\n",
       "      <td>99833.0</td>\n",
       "      <td>93070.5</td>\n",
       "      <td>6762.5</td>\n",
       "    </tr>\n",
       "    <tr>\n",
       "      <th>2020-05-30</th>\n",
       "      <td>US</td>\n",
       "      <td>106280.0</td>\n",
       "      <td>95972.0</td>\n",
       "      <td>10308.0</td>\n",
       "    </tr>\n",
       "    <tr>\n",
       "      <th>2020-05-23</th>\n",
       "      <td>US</td>\n",
       "      <td>111303.0</td>\n",
       "      <td>95794.0</td>\n",
       "      <td>15509.0</td>\n",
       "    </tr>\n",
       "    <tr>\n",
       "      <th>2020-05-16</th>\n",
       "      <td>US</td>\n",
       "      <td>118148.0</td>\n",
       "      <td>96596.0</td>\n",
       "      <td>21552.0</td>\n",
       "    </tr>\n",
       "    <tr>\n",
       "      <th>2020-05-09</th>\n",
       "      <td>US</td>\n",
       "      <td>123517.0</td>\n",
       "      <td>98520.0</td>\n",
       "      <td>24997.0</td>\n",
       "    </tr>\n",
       "    <tr>\n",
       "      <th>2020-05-02</th>\n",
       "      <td>US</td>\n",
       "      <td>129199.0</td>\n",
       "      <td>99567.0</td>\n",
       "      <td>29632.0</td>\n",
       "    </tr>\n",
       "    <tr>\n",
       "      <th>2020-04-25</th>\n",
       "      <td>US</td>\n",
       "      <td>140352.0</td>\n",
       "      <td>102060.5</td>\n",
       "      <td>38291.5</td>\n",
       "    </tr>\n",
       "    <tr>\n",
       "      <th>2020-04-18</th>\n",
       "      <td>US</td>\n",
       "      <td>146762.0</td>\n",
       "      <td>102546.0</td>\n",
       "      <td>44216.0</td>\n",
       "    </tr>\n",
       "    <tr>\n",
       "      <th>2020-04-11</th>\n",
       "      <td>US</td>\n",
       "      <td>151507.0</td>\n",
       "      <td>105160.5</td>\n",
       "      <td>46346.5</td>\n",
       "    </tr>\n",
       "    <tr>\n",
       "      <th>2020-04-04</th>\n",
       "      <td>US</td>\n",
       "      <td>138743.0</td>\n",
       "      <td>105932.0</td>\n",
       "      <td>32811.0</td>\n",
       "    </tr>\n",
       "    <tr>\n",
       "      <th>2020-03-28</th>\n",
       "      <td>US</td>\n",
       "      <td>120622.0</td>\n",
       "      <td>105700.5</td>\n",
       "      <td>14921.5</td>\n",
       "    </tr>\n",
       "    <tr>\n",
       "      <th>2020-03-21</th>\n",
       "      <td>US</td>\n",
       "      <td>113039.0</td>\n",
       "      <td>107283.0</td>\n",
       "      <td>5756.0</td>\n",
       "    </tr>\n",
       "    <tr>\n",
       "      <th>2020-03-14</th>\n",
       "      <td>US</td>\n",
       "      <td>111588.0</td>\n",
       "      <td>108254.0</td>\n",
       "      <td>3334.0</td>\n",
       "    </tr>\n",
       "    <tr>\n",
       "      <th>2020-03-07</th>\n",
       "      <td>US</td>\n",
       "      <td>113637.0</td>\n",
       "      <td>109752.5</td>\n",
       "      <td>3884.5</td>\n",
       "    </tr>\n",
       "    <tr>\n",
       "      <th>2020-02-29</th>\n",
       "      <td>US</td>\n",
       "      <td>113097.0</td>\n",
       "      <td>109208.5</td>\n",
       "      <td>3888.5</td>\n",
       "    </tr>\n",
       "    <tr>\n",
       "      <th>2020-02-22</th>\n",
       "      <td>US</td>\n",
       "      <td>112491.0</td>\n",
       "      <td>110625.5</td>\n",
       "      <td>1865.5</td>\n",
       "    </tr>\n",
       "    <tr>\n",
       "      <th>2020-02-15</th>\n",
       "      <td>US</td>\n",
       "      <td>112432.0</td>\n",
       "      <td>111163.5</td>\n",
       "      <td>1268.5</td>\n",
       "    </tr>\n",
       "    <tr>\n",
       "      <th>2020-02-08</th>\n",
       "      <td>US</td>\n",
       "      <td>113817.0</td>\n",
       "      <td>112228.0</td>\n",
       "      <td>1589.0</td>\n",
       "    </tr>\n",
       "  </tbody>\n",
       "</table>\n",
       "</div>"
      ],
      "text/plain": [
       "           country    deaths  expected_deaths  excess_deaths\n",
       "dt                                                          \n",
       "2020-06-13      US   83200.0          80850.5         2349.5\n",
       "2020-06-06      US   99833.0          93070.5         6762.5\n",
       "2020-05-30      US  106280.0          95972.0        10308.0\n",
       "2020-05-23      US  111303.0          95794.0        15509.0\n",
       "2020-05-16      US  118148.0          96596.0        21552.0\n",
       "2020-05-09      US  123517.0          98520.0        24997.0\n",
       "2020-05-02      US  129199.0          99567.0        29632.0\n",
       "2020-04-25      US  140352.0         102060.5        38291.5\n",
       "2020-04-18      US  146762.0         102546.0        44216.0\n",
       "2020-04-11      US  151507.0         105160.5        46346.5\n",
       "2020-04-04      US  138743.0         105932.0        32811.0\n",
       "2020-03-28      US  120622.0         105700.5        14921.5\n",
       "2020-03-21      US  113039.0         107283.0         5756.0\n",
       "2020-03-14      US  111588.0         108254.0         3334.0\n",
       "2020-03-07      US  113637.0         109752.5         3884.5\n",
       "2020-02-29      US  113097.0         109208.5         3888.5\n",
       "2020-02-22      US  112491.0         110625.5         1865.5\n",
       "2020-02-15      US  112432.0         111163.5         1268.5\n",
       "2020-02-08      US  113817.0         112228.0         1589.0"
      ]
     },
     "execution_count": 76,
     "metadata": {},
     "output_type": "execute_result"
    }
   ],
   "source": [
    "d1[1:20]"
   ]
  },
  {
   "cell_type": "code",
   "execution_count": 77,
   "metadata": {},
   "outputs": [
    {
     "data": {
      "text/plain": [
       "<matplotlib.legend.Legend at 0x11f405510>"
      ]
     },
     "execution_count": 77,
     "metadata": {},
     "output_type": "execute_result"
    },
    {
     "data": {
      "image/png": "[encoded data removed]",
      "text/plain": [
       "<Figure size 1080x216 with 1 Axes>"
      ]
     },
     "metadata": {
      "needs_background": "light"
     },
     "output_type": "display_data"
    }
   ],
   "source": [
    "d1[1:][['deaths', 'expected_deaths']].plot(figsize=(15,3)).legend(loc='upper left')"
   ]
  },
  {
   "cell_type": "code",
   "execution_count": 80,
   "metadata": {},
   "outputs": [
    {
     "data": {
      "text/plain": [
       "<matplotlib.legend.Legend at 0x118fcaf90>"
      ]
     },
     "execution_count": 80,
     "metadata": {},
     "output_type": "execute_result"
    },
    {
     "data": {
      "image/png": "[encoded data removed]",
      "text/plain": [
       "<Figure size 1080x216 with 1 Axes>"
      ]
     },
     "metadata": {
      "needs_background": "light"
     },
     "output_type": "display_data"
    }
   ],
   "source": [
    "d1[1:100][['deaths','expected_deaths']].plot(figsize=(15,3)).legend(loc='upper left')"
   ]
  },
  {
   "cell_type": "code",
   "execution_count": 73,
   "metadata": {},
   "outputs": [
    {
     "data": {
      "text/plain": [
       "<matplotlib.legend.Legend at 0x11e0c5190>"
      ]
     },
     "execution_count": 73,
     "metadata": {},
     "output_type": "execute_result"
    },
    {
     "data": {
      "image/png": "[encoded data removed]",
      "text/plain": [
       "<Figure size 1080x216 with 1 Axes>"
      ]
     },
     "metadata": {
      "needs_background": "light"
     },
     "output_type": "display_data"
    }
   ],
   "source": [
    "d1[1:30].excess_deaths.plot(figsize=(15,3)).legend(loc='upper left')"
   ]
  },
  {
   "cell_type": "code",
   "execution_count": 66,
   "metadata": {
    "scrolled": false
   },
   "outputs": [
    {
     "data": {
      "text/html": [
       "<div>\n",
       "<style scoped>\n",
       "    .dataframe tbody tr th:only-of-type {\n",
       "        vertical-align: middle;\n",
       "    }\n",
       "\n",
       "    .dataframe tbody tr th {\n",
       "        vertical-align: top;\n",
       "    }\n",
       "\n",
       "    .dataframe thead th {\n",
       "        text-align: right;\n",
       "    }\n",
       "</style>\n",
       "<table border=\"1\" class=\"dataframe\">\n",
       "  <thead>\n",
       "    <tr style=\"text-align: right;\">\n",
       "      <th></th>\n",
       "      <th>country</th>\n",
       "      <th>deaths</th>\n",
       "      <th>expected_deaths</th>\n",
       "      <th>excess_deaths</th>\n",
       "    </tr>\n",
       "    <tr>\n",
       "      <th>dt</th>\n",
       "      <th></th>\n",
       "      <th></th>\n",
       "      <th></th>\n",
       "      <th></th>\n",
       "    </tr>\n",
       "  </thead>\n",
       "  <tbody>\n",
       "    <tr>\n",
       "      <th>2020-06-20</th>\n",
       "      <td>US</td>\n",
       "      <td>12790.0</td>\n",
       "      <td>12280.0</td>\n",
       "      <td>510.0</td>\n",
       "    </tr>\n",
       "    <tr>\n",
       "      <th>2020-06-13</th>\n",
       "      <td>US</td>\n",
       "      <td>83200.0</td>\n",
       "      <td>80850.5</td>\n",
       "      <td>2349.5</td>\n",
       "    </tr>\n",
       "    <tr>\n",
       "      <th>2020-06-06</th>\n",
       "      <td>US</td>\n",
       "      <td>99833.0</td>\n",
       "      <td>93070.5</td>\n",
       "      <td>6762.5</td>\n",
       "    </tr>\n",
       "    <tr>\n",
       "      <th>2020-05-30</th>\n",
       "      <td>US</td>\n",
       "      <td>106280.0</td>\n",
       "      <td>95972.0</td>\n",
       "      <td>10308.0</td>\n",
       "    </tr>\n",
       "    <tr>\n",
       "      <th>2020-05-23</th>\n",
       "      <td>US</td>\n",
       "      <td>111303.0</td>\n",
       "      <td>95794.0</td>\n",
       "      <td>15509.0</td>\n",
       "    </tr>\n",
       "    <tr>\n",
       "      <th>...</th>\n",
       "      <td>...</td>\n",
       "      <td>...</td>\n",
       "      <td>...</td>\n",
       "      <td>...</td>\n",
       "    </tr>\n",
       "    <tr>\n",
       "      <th>2013-02-08</th>\n",
       "      <td>US</td>\n",
       "      <td>107061.0</td>\n",
       "      <td>112228.0</td>\n",
       "      <td>-5167.0</td>\n",
       "    </tr>\n",
       "    <tr>\n",
       "      <th>2013-02-01</th>\n",
       "      <td>US</td>\n",
       "      <td>108325.0</td>\n",
       "      <td>111681.5</td>\n",
       "      <td>-3356.5</td>\n",
       "    </tr>\n",
       "    <tr>\n",
       "      <th>2013-01-25</th>\n",
       "      <td>US</td>\n",
       "      <td>111158.0</td>\n",
       "      <td>111620.0</td>\n",
       "      <td>-462.0</td>\n",
       "    </tr>\n",
       "    <tr>\n",
       "      <th>2013-01-18</th>\n",
       "      <td>US</td>\n",
       "      <td>113592.0</td>\n",
       "      <td>114005.5</td>\n",
       "      <td>-413.5</td>\n",
       "    </tr>\n",
       "    <tr>\n",
       "      <th>2013-01-11</th>\n",
       "      <td>US</td>\n",
       "      <td>116717.0</td>\n",
       "      <td>116353.0</td>\n",
       "      <td>364.0</td>\n",
       "    </tr>\n",
       "  </tbody>\n",
       "</table>\n",
       "<p>381 rows × 4 columns</p>\n",
       "</div>"
      ],
      "text/plain": [
       "           country    deaths  expected_deaths  excess_deaths\n",
       "dt                                                          \n",
       "2020-06-20      US   12790.0          12280.0          510.0\n",
       "2020-06-13      US   83200.0          80850.5         2349.5\n",
       "2020-06-06      US   99833.0          93070.5         6762.5\n",
       "2020-05-30      US  106280.0          95972.0        10308.0\n",
       "2020-05-23      US  111303.0          95794.0        15509.0\n",
       "...            ...       ...              ...            ...\n",
       "2013-02-08      US  107061.0         112228.0        -5167.0\n",
       "2013-02-01      US  108325.0         111681.5        -3356.5\n",
       "2013-01-25      US  111158.0         111620.0         -462.0\n",
       "2013-01-18      US  113592.0         114005.5         -413.5\n",
       "2013-01-11      US  116717.0         116353.0          364.0\n",
       "\n",
       "[381 rows x 4 columns]"
      ]
     },
     "execution_count": 66,
     "metadata": {},
     "output_type": "execute_result"
    }
   ],
   "source": [
    "d1.sort_index(ascending=False)"
   ]
  },
  {
   "cell_type": "code",
   "execution_count": 67,
   "metadata": {},
   "outputs": [
    {
     "data": {
      "text/plain": [
       "(381, 4)"
      ]
     },
     "execution_count": 67,
     "metadata": {},
     "output_type": "execute_result"
    }
   ],
   "source": [
    "d1.shape"
   ]
  },
  {
   "cell_type": "code",
   "execution_count": 69,
   "metadata": {},
   "outputs": [
    {
     "data": {
      "text/html": [
       "<div>\n",
       "<style scoped>\n",
       "    .dataframe tbody tr th:only-of-type {\n",
       "        vertical-align: middle;\n",
       "    }\n",
       "\n",
       "    .dataframe tbody tr th {\n",
       "        vertical-align: top;\n",
       "    }\n",
       "\n",
       "    .dataframe thead th {\n",
       "        text-align: right;\n",
       "    }\n",
       "</style>\n",
       "<table border=\"1\" class=\"dataframe\">\n",
       "  <thead>\n",
       "    <tr style=\"text-align: right;\">\n",
       "      <th></th>\n",
       "      <th>country</th>\n",
       "      <th>deaths</th>\n",
       "      <th>expected_deaths</th>\n",
       "      <th>excess_deaths</th>\n",
       "    </tr>\n",
       "    <tr>\n",
       "      <th>dt</th>\n",
       "      <th></th>\n",
       "      <th></th>\n",
       "      <th></th>\n",
       "      <th></th>\n",
       "    </tr>\n",
       "  </thead>\n",
       "  <tbody>\n",
       "    <tr>\n",
       "      <th>2020-06-13</th>\n",
       "      <td>US</td>\n",
       "      <td>83200.0</td>\n",
       "      <td>80850.5</td>\n",
       "      <td>2349.5</td>\n",
       "    </tr>\n",
       "    <tr>\n",
       "      <th>2020-06-06</th>\n",
       "      <td>US</td>\n",
       "      <td>99833.0</td>\n",
       "      <td>93070.5</td>\n",
       "      <td>6762.5</td>\n",
       "    </tr>\n",
       "    <tr>\n",
       "      <th>2020-05-30</th>\n",
       "      <td>US</td>\n",
       "      <td>106280.0</td>\n",
       "      <td>95972.0</td>\n",
       "      <td>10308.0</td>\n",
       "    </tr>\n",
       "    <tr>\n",
       "      <th>2020-05-23</th>\n",
       "      <td>US</td>\n",
       "      <td>111303.0</td>\n",
       "      <td>95794.0</td>\n",
       "      <td>15509.0</td>\n",
       "    </tr>\n",
       "    <tr>\n",
       "      <th>2020-05-16</th>\n",
       "      <td>US</td>\n",
       "      <td>118148.0</td>\n",
       "      <td>96596.0</td>\n",
       "      <td>21552.0</td>\n",
       "    </tr>\n",
       "    <tr>\n",
       "      <th>...</th>\n",
       "      <td>...</td>\n",
       "      <td>...</td>\n",
       "      <td>...</td>\n",
       "      <td>...</td>\n",
       "    </tr>\n",
       "    <tr>\n",
       "      <th>2013-02-08</th>\n",
       "      <td>US</td>\n",
       "      <td>107061.0</td>\n",
       "      <td>112228.0</td>\n",
       "      <td>-5167.0</td>\n",
       "    </tr>\n",
       "    <tr>\n",
       "      <th>2013-02-01</th>\n",
       "      <td>US</td>\n",
       "      <td>108325.0</td>\n",
       "      <td>111681.5</td>\n",
       "      <td>-3356.5</td>\n",
       "    </tr>\n",
       "    <tr>\n",
       "      <th>2013-01-25</th>\n",
       "      <td>US</td>\n",
       "      <td>111158.0</td>\n",
       "      <td>111620.0</td>\n",
       "      <td>-462.0</td>\n",
       "    </tr>\n",
       "    <tr>\n",
       "      <th>2013-01-18</th>\n",
       "      <td>US</td>\n",
       "      <td>113592.0</td>\n",
       "      <td>114005.5</td>\n",
       "      <td>-413.5</td>\n",
       "    </tr>\n",
       "    <tr>\n",
       "      <th>2013-01-11</th>\n",
       "      <td>US</td>\n",
       "      <td>116717.0</td>\n",
       "      <td>116353.0</td>\n",
       "      <td>364.0</td>\n",
       "    </tr>\n",
       "  </tbody>\n",
       "</table>\n",
       "<p>380 rows × 4 columns</p>\n",
       "</div>"
      ],
      "text/plain": [
       "           country    deaths  expected_deaths  excess_deaths\n",
       "dt                                                          \n",
       "2020-06-13      US   83200.0          80850.5         2349.5\n",
       "2020-06-06      US   99833.0          93070.5         6762.5\n",
       "2020-05-30      US  106280.0          95972.0        10308.0\n",
       "2020-05-23      US  111303.0          95794.0        15509.0\n",
       "2020-05-16      US  118148.0          96596.0        21552.0\n",
       "...            ...       ...              ...            ...\n",
       "2013-02-08      US  107061.0         112228.0        -5167.0\n",
       "2013-02-01      US  108325.0         111681.5        -3356.5\n",
       "2013-01-25      US  111158.0         111620.0         -462.0\n",
       "2013-01-18      US  113592.0         114005.5         -413.5\n",
       "2013-01-11      US  116717.0         116353.0          364.0\n",
       "\n",
       "[380 rows x 4 columns]"
      ]
     },
     "execution_count": 69,
     "metadata": {},
     "output_type": "execute_result"
    }
   ],
   "source": [
    "d1[1:]"
   ]
  },
  {
   "cell_type": "code",
   "execution_count": 24,
   "metadata": {},
   "outputs": [],
   "source": [
    "df_us = df[df.country == 'US']"
   ]
  },
  {
   "cell_type": "code",
   "execution_count": 25,
   "metadata": {},
   "outputs": [
    {
     "data": {
      "text/html": [
       "<div>\n",
       "<style scoped>\n",
       "    .dataframe tbody tr th:only-of-type {\n",
       "        vertical-align: middle;\n",
       "    }\n",
       "\n",
       "    .dataframe tbody tr th {\n",
       "        vertical-align: top;\n",
       "    }\n",
       "\n",
       "    .dataframe thead th {\n",
       "        text-align: right;\n",
       "    }\n",
       "</style>\n",
       "<table border=\"1\" class=\"dataframe\">\n",
       "  <thead>\n",
       "    <tr style=\"text-align: right;\">\n",
       "      <th></th>\n",
       "      <th>year</th>\n",
       "      <th>month</th>\n",
       "      <th>week</th>\n",
       "      <th>deaths</th>\n",
       "      <th>expected_deaths</th>\n",
       "      <th>excess_deaths</th>\n",
       "      <th>excess_deaths_pct</th>\n",
       "    </tr>\n",
       "  </thead>\n",
       "  <tbody>\n",
       "    <tr>\n",
       "      <th>count</th>\n",
       "      <td>18174.000000</td>\n",
       "      <td>18174.000000</td>\n",
       "      <td>18174.000000</td>\n",
       "      <td>18174.000000</td>\n",
       "      <td>18174.000000</td>\n",
       "      <td>18174.000000</td>\n",
       "      <td>18174.000000</td>\n",
       "    </tr>\n",
       "    <tr>\n",
       "      <th>mean</th>\n",
       "      <td>2016.260977</td>\n",
       "      <td>6.195279</td>\n",
       "      <td>25.214427</td>\n",
       "      <td>2128.686750</td>\n",
       "      <td>2152.491059</td>\n",
       "      <td>-23.804308</td>\n",
       "      <td>-1.015763</td>\n",
       "    </tr>\n",
       "    <tr>\n",
       "      <th>std</th>\n",
       "      <td>2.162893</td>\n",
       "      <td>3.362800</td>\n",
       "      <td>14.696907</td>\n",
       "      <td>7527.016671</td>\n",
       "      <td>7603.944733</td>\n",
       "      <td>520.025421</td>\n",
       "      <td>11.885525</td>\n",
       "    </tr>\n",
       "    <tr>\n",
       "      <th>min</th>\n",
       "      <td>2013.000000</td>\n",
       "      <td>1.000000</td>\n",
       "      <td>1.000000</td>\n",
       "      <td>57.000000</td>\n",
       "      <td>71.000000</td>\n",
       "      <td>-6065.000000</td>\n",
       "      <td>-51.187335</td>\n",
       "    </tr>\n",
       "    <tr>\n",
       "      <th>25%</th>\n",
       "      <td>2014.000000</td>\n",
       "      <td>3.000000</td>\n",
       "      <td>12.000000</td>\n",
       "      <td>319.000000</td>\n",
       "      <td>329.000000</td>\n",
       "      <td>-37.000000</td>\n",
       "      <td>-5.653556</td>\n",
       "    </tr>\n",
       "    <tr>\n",
       "      <th>50%</th>\n",
       "      <td>2016.000000</td>\n",
       "      <td>6.000000</td>\n",
       "      <td>24.000000</td>\n",
       "      <td>859.500000</td>\n",
       "      <td>884.000000</td>\n",
       "      <td>-2.000000</td>\n",
       "      <td>-0.400200</td>\n",
       "    </tr>\n",
       "    <tr>\n",
       "      <th>75%</th>\n",
       "      <td>2018.000000</td>\n",
       "      <td>9.000000</td>\n",
       "      <td>38.000000</td>\n",
       "      <td>1315.000000</td>\n",
       "      <td>1321.000000</td>\n",
       "      <td>11.000000</td>\n",
       "      <td>1.978068</td>\n",
       "    </tr>\n",
       "    <tr>\n",
       "      <th>max</th>\n",
       "      <td>2020.000000</td>\n",
       "      <td>12.000000</td>\n",
       "      <td>51.000000</td>\n",
       "      <td>78296.000000</td>\n",
       "      <td>60980.000000</td>\n",
       "      <td>23435.000000</td>\n",
       "      <td>644.702602</td>\n",
       "    </tr>\n",
       "  </tbody>\n",
       "</table>\n",
       "</div>"
      ],
      "text/plain": [
       "               year         month          week        deaths  \\\n",
       "count  18174.000000  18174.000000  18174.000000  18174.000000   \n",
       "mean    2016.260977      6.195279     25.214427   2128.686750   \n",
       "std        2.162893      3.362800     14.696907   7527.016671   \n",
       "min     2013.000000      1.000000      1.000000     57.000000   \n",
       "25%     2014.000000      3.000000     12.000000    319.000000   \n",
       "50%     2016.000000      6.000000     24.000000    859.500000   \n",
       "75%     2018.000000      9.000000     38.000000   1315.000000   \n",
       "max     2020.000000     12.000000     51.000000  78296.000000   \n",
       "\n",
       "       expected_deaths  excess_deaths  excess_deaths_pct  \n",
       "count     18174.000000   18174.000000       18174.000000  \n",
       "mean       2152.491059     -23.804308          -1.015763  \n",
       "std        7603.944733     520.025421          11.885525  \n",
       "min          71.000000   -6065.000000         -51.187335  \n",
       "25%         329.000000     -37.000000          -5.653556  \n",
       "50%         884.000000      -2.000000          -0.400200  \n",
       "75%        1321.000000      11.000000           1.978068  \n",
       "max       60980.000000   23435.000000         644.702602  "
      ]
     },
     "execution_count": 25,
     "metadata": {},
     "output_type": "execute_result"
    }
   ],
   "source": [
    "df_us.describe()"
   ]
  },
  {
   "cell_type": "code",
   "execution_count": 29,
   "metadata": {},
   "outputs": [
    {
     "name": "stderr",
     "output_type": "stream",
     "text": [
      "/Users/nishant.deshpande/anaconda3/lib/python3.7/site-packages/ipykernel_launcher.py:1: FutureWarning: Indexing with multiple keys (implicitly converted to a tuple of keys) will be deprecated, use a list instead.\n",
      "  \"\"\"Entry point for launching an IPython kernel.\n"
     ]
    }
   ],
   "source": [
    "df_us_year_summary = df_us.groupby(['country', 'dt'])['deaths', 'expected_deaths', 'excess_deaths'].sum()"
   ]
  },
  {
   "cell_type": "code",
   "execution_count": 9,
   "metadata": {},
   "outputs": [
    {
     "data": {
      "text/html": [
       "<div>\n",
       "<style scoped>\n",
       "    .dataframe tbody tr th:only-of-type {\n",
       "        vertical-align: middle;\n",
       "    }\n",
       "\n",
       "    .dataframe tbody tr th {\n",
       "        vertical-align: top;\n",
       "    }\n",
       "\n",
       "    .dataframe thead th {\n",
       "        text-align: right;\n",
       "    }\n",
       "</style>\n",
       "<table border=\"1\" class=\"dataframe\">\n",
       "  <thead>\n",
       "    <tr style=\"text-align: right;\">\n",
       "      <th></th>\n",
       "      <th></th>\n",
       "      <th>deaths</th>\n",
       "      <th>expected_deaths</th>\n",
       "      <th>excess_deaths</th>\n",
       "    </tr>\n",
       "    <tr>\n",
       "      <th>country</th>\n",
       "      <th>year</th>\n",
       "      <th></th>\n",
       "      <th></th>\n",
       "      <th></th>\n",
       "    </tr>\n",
       "  </thead>\n",
       "  <tbody>\n",
       "    <tr>\n",
       "      <th rowspan=\"8\" valign=\"top\">US</th>\n",
       "      <th>2013</th>\n",
       "      <td>4761416.0</td>\n",
       "      <td>5136611.0</td>\n",
       "      <td>-375195.0</td>\n",
       "    </tr>\n",
       "    <tr>\n",
       "      <th>2014</th>\n",
       "      <td>4903023.0</td>\n",
       "      <td>5250697.5</td>\n",
       "      <td>-347674.5</td>\n",
       "    </tr>\n",
       "    <tr>\n",
       "      <th>2015</th>\n",
       "      <td>5047318.0</td>\n",
       "      <td>5198963.0</td>\n",
       "      <td>-151645.0</td>\n",
       "    </tr>\n",
       "    <tr>\n",
       "      <th>2016</th>\n",
       "      <td>5135894.0</td>\n",
       "      <td>5250697.5</td>\n",
       "      <td>-114803.5</td>\n",
       "    </tr>\n",
       "    <tr>\n",
       "      <th>2017</th>\n",
       "      <td>5280992.0</td>\n",
       "      <td>5250697.5</td>\n",
       "      <td>30294.5</td>\n",
       "    </tr>\n",
       "    <tr>\n",
       "      <th>2018</th>\n",
       "      <td>5345558.0</td>\n",
       "      <td>5250697.5</td>\n",
       "      <td>94860.5</td>\n",
       "    </tr>\n",
       "    <tr>\n",
       "      <th>2019</th>\n",
       "      <td>5369430.0</td>\n",
       "      <td>5250697.5</td>\n",
       "      <td>118732.5</td>\n",
       "    </tr>\n",
       "    <tr>\n",
       "      <th>2020</th>\n",
       "      <td>2843122.0</td>\n",
       "      <td>2530311.0</td>\n",
       "      <td>312811.0</td>\n",
       "    </tr>\n",
       "  </tbody>\n",
       "</table>\n",
       "</div>"
      ],
      "text/plain": [
       "                 deaths  expected_deaths  excess_deaths\n",
       "country year                                           \n",
       "US      2013  4761416.0        5136611.0      -375195.0\n",
       "        2014  4903023.0        5250697.5      -347674.5\n",
       "        2015  5047318.0        5198963.0      -151645.0\n",
       "        2016  5135894.0        5250697.5      -114803.5\n",
       "        2017  5280992.0        5250697.5        30294.5\n",
       "        2018  5345558.0        5250697.5        94860.5\n",
       "        2019  5369430.0        5250697.5       118732.5\n",
       "        2020  2843122.0        2530311.0       312811.0"
      ]
     },
     "execution_count": 9,
     "metadata": {},
     "output_type": "execute_result"
    }
   ],
   "source": [
    "df_us_year_summary"
   ]
  },
  {
   "cell_type": "code",
   "execution_count": 11,
   "metadata": {},
   "outputs": [
    {
     "data": {
      "text/plain": [
       "6"
      ]
     },
     "execution_count": 11,
     "metadata": {},
     "output_type": "execute_result"
    }
   ],
   "source": [
    "df_us[df_us.year == 2020].month.max()"
   ]
  },
  {
   "cell_type": "code",
   "execution_count": 22,
   "metadata": {},
   "outputs": [],
   "source": [
    "df['dt'] = df.date.apply(dateutil.parser.parse)"
   ]
  },
  {
   "cell_type": "code",
   "execution_count": 13,
   "metadata": {},
   "outputs": [],
   "source": [
    "d = datetime.datetime(2019,5,1)"
   ]
  },
  {
   "cell_type": "code",
   "execution_count": 14,
   "metadata": {},
   "outputs": [
    {
     "data": {
      "text/plain": [
       "datetime.datetime(2019, 5, 1, 0, 0)"
      ]
     },
     "execution_count": 14,
     "metadata": {},
     "output_type": "execute_result"
    }
   ],
   "source": [
    "d"
   ]
  },
  {
   "cell_type": "code",
   "execution_count": 20,
   "metadata": {},
   "outputs": [
    {
     "data": {
      "text/plain": [
       "datetime.datetime(2015, 1, 22, 0, 0)"
      ]
     },
     "execution_count": 20,
     "metadata": {},
     "output_type": "execute_result"
    }
   ],
   "source": [
    "dateutil.parser.parse('2015-01-22')"
   ]
  },
  {
   "cell_type": "code",
   "execution_count": 83,
   "metadata": {},
   "outputs": [],
   "source": [
    "df_causes_us = pd.read_csv('/Users/nishant.deshpande/personal/data/NCHS_-_Leading_Causes_of_Death__United_States.csv')"
   ]
  },
  {
   "cell_type": "code",
   "execution_count": 84,
   "metadata": {},
   "outputs": [
    {
     "data": {
      "text/html": [
       "<div>\n",
       "<style scoped>\n",
       "    .dataframe tbody tr th:only-of-type {\n",
       "        vertical-align: middle;\n",
       "    }\n",
       "\n",
       "    .dataframe tbody tr th {\n",
       "        vertical-align: top;\n",
       "    }\n",
       "\n",
       "    .dataframe thead th {\n",
       "        text-align: right;\n",
       "    }\n",
       "</style>\n",
       "<table border=\"1\" class=\"dataframe\">\n",
       "  <thead>\n",
       "    <tr style=\"text-align: right;\">\n",
       "      <th></th>\n",
       "      <th>Year</th>\n",
       "      <th>113 Cause Name</th>\n",
       "      <th>Cause Name</th>\n",
       "      <th>State</th>\n",
       "      <th>Deaths</th>\n",
       "      <th>Age-adjusted Death Rate</th>\n",
       "    </tr>\n",
       "  </thead>\n",
       "  <tbody>\n",
       "    <tr>\n",
       "      <th>0</th>\n",
       "      <td>2017</td>\n",
       "      <td>Accidents (unintentional injuries) (V01-X59,Y8...</td>\n",
       "      <td>Unintentional injuries</td>\n",
       "      <td>United States</td>\n",
       "      <td>169,936</td>\n",
       "      <td>49.4</td>\n",
       "    </tr>\n",
       "    <tr>\n",
       "      <th>1</th>\n",
       "      <td>2017</td>\n",
       "      <td>Accidents (unintentional injuries) (V01-X59,Y8...</td>\n",
       "      <td>Unintentional injuries</td>\n",
       "      <td>Alabama</td>\n",
       "      <td>2,703</td>\n",
       "      <td>53.8</td>\n",
       "    </tr>\n",
       "    <tr>\n",
       "      <th>2</th>\n",
       "      <td>2017</td>\n",
       "      <td>Accidents (unintentional injuries) (V01-X59,Y8...</td>\n",
       "      <td>Unintentional injuries</td>\n",
       "      <td>Alaska</td>\n",
       "      <td>436</td>\n",
       "      <td>63.7</td>\n",
       "    </tr>\n",
       "  </tbody>\n",
       "</table>\n",
       "</div>"
      ],
      "text/plain": [
       "   Year                                     113 Cause Name  \\\n",
       "0  2017  Accidents (unintentional injuries) (V01-X59,Y8...   \n",
       "1  2017  Accidents (unintentional injuries) (V01-X59,Y8...   \n",
       "2  2017  Accidents (unintentional injuries) (V01-X59,Y8...   \n",
       "\n",
       "               Cause Name          State   Deaths Age-adjusted Death Rate  \n",
       "0  Unintentional injuries  United States  169,936                    49.4  \n",
       "1  Unintentional injuries        Alabama    2,703                    53.8  \n",
       "2  Unintentional injuries         Alaska      436                    63.7  "
      ]
     },
     "execution_count": 84,
     "metadata": {},
     "output_type": "execute_result"
    }
   ],
   "source": [
    "df_causes_us.head(3)"
   ]
  },
  {
   "cell_type": "code",
   "execution_count": 103,
   "metadata": {},
   "outputs": [],
   "source": [
    "df_causes_yearly_totals = df_causes_us[df_causes_us.State == 'United States'].groupby(['Year', 'State'])['deaths'].sum()"
   ]
  },
  {
   "cell_type": "code",
   "execution_count": 105,
   "metadata": {},
   "outputs": [
    {
     "data": {
      "text/plain": [
       "Year  State        \n",
       "1999  United States    4297225\n",
       "2000  United States    4305545\n",
       "2001  United States    4315783\n",
       "Name: deaths, dtype: int64"
      ]
     },
     "execution_count": 105,
     "metadata": {},
     "output_type": "execute_result"
    }
   ],
   "source": [
    "df_causes_yearly_totals.head(3)"
   ]
  },
  {
   "cell_type": "code",
   "execution_count": 108,
   "metadata": {},
   "outputs": [],
   "source": [
    "df_causes_yearly_totals2 = df_causes_us[df_causes_us.State == 'United States'].groupby(['Year', 'State']).agg(\n",
    "  foo=('deaths','sum'),\n",
    "  bar=('deaths_per_100k','sum')\n",
    ")"
   ]
  },
  {
   "cell_type": "code",
   "execution_count": 109,
   "metadata": {},
   "outputs": [
    {
     "data": {
      "text/html": [
       "<div>\n",
       "<style scoped>\n",
       "    .dataframe tbody tr th:only-of-type {\n",
       "        vertical-align: middle;\n",
       "    }\n",
       "\n",
       "    .dataframe tbody tr th {\n",
       "        vertical-align: top;\n",
       "    }\n",
       "\n",
       "    .dataframe thead th {\n",
       "        text-align: right;\n",
       "    }\n",
       "</style>\n",
       "<table border=\"1\" class=\"dataframe\">\n",
       "  <thead>\n",
       "    <tr style=\"text-align: right;\">\n",
       "      <th></th>\n",
       "      <th></th>\n",
       "      <th>foo</th>\n",
       "      <th>bar</th>\n",
       "    </tr>\n",
       "    <tr>\n",
       "      <th>Year</th>\n",
       "      <th>State</th>\n",
       "      <th></th>\n",
       "      <th></th>\n",
       "    </tr>\n",
       "  </thead>\n",
       "  <tbody>\n",
       "    <tr>\n",
       "      <th>1999</th>\n",
       "      <th>United States</th>\n",
       "      <td>4297225</td>\n",
       "      <td>1573.7</td>\n",
       "    </tr>\n",
       "    <tr>\n",
       "      <th>2000</th>\n",
       "      <th>United States</th>\n",
       "      <td>4305545</td>\n",
       "      <td>1557.0</td>\n",
       "    </tr>\n",
       "    <tr>\n",
       "      <th>2001</th>\n",
       "      <th>United States</th>\n",
       "      <td>4315783</td>\n",
       "      <td>1534.5</td>\n",
       "    </tr>\n",
       "  </tbody>\n",
       "</table>\n",
       "</div>"
      ],
      "text/plain": [
       "                        foo     bar\n",
       "Year State                         \n",
       "1999 United States  4297225  1573.7\n",
       "2000 United States  4305545  1557.0\n",
       "2001 United States  4315783  1534.5"
      ]
     },
     "execution_count": 109,
     "metadata": {},
     "output_type": "execute_result"
    }
   ],
   "source": [
    "df_causes_yearly_totals2.head(3)"
   ]
  },
  {
   "cell_type": "code",
   "execution_count": 111,
   "metadata": {},
   "outputs": [
    {
     "data": {
      "text/plain": [
       "5505500"
      ]
     },
     "execution_count": 111,
     "metadata": {},
     "output_type": "execute_result"
    }
   ],
   "source": [
    "1573*3500  # No - this is age adjusted death rate - so can't just sum up and multiply by the population"
   ]
  },
  {
   "cell_type": "code",
   "execution_count": 93,
   "metadata": {},
   "outputs": [],
   "source": [
    "df_causes_us['deaths'] = df_causes_us.Deaths.apply(lambda x: int(x.replace(',','')))"
   ]
  },
  {
   "cell_type": "code",
   "execution_count": 98,
   "metadata": {},
   "outputs": [],
   "source": [
    "df_causes_us['deaths_per_100k'] = df_causes_us[\"Age-adjusted Death Rate\"].apply(lambda x: float(x.replace(',','')))"
   ]
  },
  {
   "cell_type": "code",
   "execution_count": 99,
   "metadata": {},
   "outputs": [
    {
     "data": {
      "text/plain": [
       "Index(['Year', '113 Cause Name', 'Cause Name', 'State', 'Deaths',\n",
       "       'Age-adjusted Death Rate', 'deaths', 'deaths_per_100k'],\n",
       "      dtype='object')"
      ]
     },
     "execution_count": 99,
     "metadata": {},
     "output_type": "execute_result"
    }
   ],
   "source": [
    "df_causes_us.columns"
   ]
  },
  {
   "cell_type": "code",
   "execution_count": 100,
   "metadata": {},
   "outputs": [
    {
     "data": {
      "text/html": [
       "<div>\n",
       "<style scoped>\n",
       "    .dataframe tbody tr th:only-of-type {\n",
       "        vertical-align: middle;\n",
       "    }\n",
       "\n",
       "    .dataframe tbody tr th {\n",
       "        vertical-align: top;\n",
       "    }\n",
       "\n",
       "    .dataframe thead th {\n",
       "        text-align: right;\n",
       "    }\n",
       "</style>\n",
       "<table border=\"1\" class=\"dataframe\">\n",
       "  <thead>\n",
       "    <tr style=\"text-align: right;\">\n",
       "      <th></th>\n",
       "      <th>Year</th>\n",
       "      <th>deaths</th>\n",
       "      <th>deaths_per_100k</th>\n",
       "    </tr>\n",
       "  </thead>\n",
       "  <tbody>\n",
       "    <tr>\n",
       "      <th>count</th>\n",
       "      <td>10868.000000</td>\n",
       "      <td>1.086800e+04</td>\n",
       "      <td>10868.000000</td>\n",
       "    </tr>\n",
       "    <tr>\n",
       "      <th>mean</th>\n",
       "      <td>2008.000000</td>\n",
       "      <td>1.545991e+04</td>\n",
       "      <td>127.563894</td>\n",
       "    </tr>\n",
       "    <tr>\n",
       "      <th>std</th>\n",
       "      <td>5.477478</td>\n",
       "      <td>1.128760e+05</td>\n",
       "      <td>223.639771</td>\n",
       "    </tr>\n",
       "    <tr>\n",
       "      <th>min</th>\n",
       "      <td>1999.000000</td>\n",
       "      <td>2.100000e+01</td>\n",
       "      <td>2.600000</td>\n",
       "    </tr>\n",
       "    <tr>\n",
       "      <th>25%</th>\n",
       "      <td>2003.000000</td>\n",
       "      <td>6.120000e+02</td>\n",
       "      <td>19.200000</td>\n",
       "    </tr>\n",
       "    <tr>\n",
       "      <th>50%</th>\n",
       "      <td>2008.000000</td>\n",
       "      <td>1.718500e+03</td>\n",
       "      <td>35.900000</td>\n",
       "    </tr>\n",
       "    <tr>\n",
       "      <th>75%</th>\n",
       "      <td>2013.000000</td>\n",
       "      <td>5.756500e+03</td>\n",
       "      <td>151.725000</td>\n",
       "    </tr>\n",
       "    <tr>\n",
       "      <th>max</th>\n",
       "      <td>2017.000000</td>\n",
       "      <td>2.813503e+06</td>\n",
       "      <td>1087.300000</td>\n",
       "    </tr>\n",
       "  </tbody>\n",
       "</table>\n",
       "</div>"
      ],
      "text/plain": [
       "               Year        deaths  deaths_per_100k\n",
       "count  10868.000000  1.086800e+04     10868.000000\n",
       "mean    2008.000000  1.545991e+04       127.563894\n",
       "std        5.477478  1.128760e+05       223.639771\n",
       "min     1999.000000  2.100000e+01         2.600000\n",
       "25%     2003.000000  6.120000e+02        19.200000\n",
       "50%     2008.000000  1.718500e+03        35.900000\n",
       "75%     2013.000000  5.756500e+03       151.725000\n",
       "max     2017.000000  2.813503e+06      1087.300000"
      ]
     },
     "execution_count": 100,
     "metadata": {},
     "output_type": "execute_result"
    }
   ],
   "source": [
    "df_causes_us.describe()"
   ]
  },
  {
   "cell_type": "code",
   "execution_count": null,
   "metadata": {},
   "outputs": [],
   "source": []
  }
 ],
 "metadata": {
  "kernelspec": {
   "display_name": "Python 3",
   "language": "python",
   "name": "python3"
  },
  "language_info": {
   "codemirror_mode": {
    "name": "ipython",
    "version": 3
   },
   "file_extension": ".py",
   "mimetype": "text/x-python",
   "name": "python",
   "nbconvert_exporter": "python",
   "pygments_lexer": "ipython3",
   "version": "3.7.6"
  }
 },
 "nbformat": 4,
 "nbformat_minor": 4
}
