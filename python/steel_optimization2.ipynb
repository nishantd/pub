{
 "cells": [
  {
   "cell_type": "code",
   "execution_count": 1,
   "metadata": {},
   "outputs": [],
   "source": [
    "import pandas as pd\n",
    "import numpy as np\n",
    "import scipy.optimize\n",
    "import os, sys\n",
    "import json\n",
    "import csv\n",
    "import re"
   ]
  },
  {
   "cell_type": "code",
   "execution_count": null,
   "metadata": {},
   "outputs": [],
   "source": [
    "'''\n",
    "We need:\n",
    " - COSTS (of the different commodities)\n",
    " - X is an array of the weights of the commodities (positions sorted by name)\n",
    " - A will be the chemistry matrix of the commodities (m x n, m = elements, n = commodities in sorted order)\n",
    " - Y is a (m x 2 array of the min and max allowed of each element in the steel)\n",
    " - TOTAL_WEIGHT The total charge weight.\n",
    "'''\n"
   ]
  },
  {
   "cell_type": "code",
   "execution_count": 398,
   "metadata": {},
   "outputs": [],
   "source": [
    "TOTAL_WEIGHT = 100  # so all commodity weights effectively becomes a pct"
   ]
  },
  {
   "cell_type": "code",
   "execution_count": 399,
   "metadata": {},
   "outputs": [],
   "source": [
    "COSTS = pd.read_csv('data/steel_university/cost.csv')"
   ]
  },
  {
   "cell_type": "code",
   "execution_count": 400,
   "metadata": {},
   "outputs": [],
   "source": [
    "COSTS.set_index('commodity', inplace=True)\n",
    "COSTS.sort_index(inplace=True)"
   ]
  },
  {
   "cell_type": "code",
   "execution_count": 402,
   "metadata": {},
   "outputs": [
    {
     "data": {
      "text/html": [
       "<div>\n",
       "<style scoped>\n",
       "    .dataframe tbody tr th:only-of-type {\n",
       "        vertical-align: middle;\n",
       "    }\n",
       "\n",
       "    .dataframe tbody tr th {\n",
       "        vertical-align: top;\n",
       "    }\n",
       "\n",
       "    .dataframe thead th {\n",
       "        text-align: right;\n",
       "    }\n",
       "</style>\n",
       "<table border=\"1\" class=\"dataframe\">\n",
       "  <thead>\n",
       "    <tr style=\"text-align: right;\">\n",
       "      <th></th>\n",
       "      <th>price</th>\n",
       "    </tr>\n",
       "    <tr>\n",
       "      <th>commodity</th>\n",
       "      <th></th>\n",
       "    </tr>\n",
       "  </thead>\n",
       "  <tbody>\n",
       "    <tr>\n",
       "      <th>Direct_Reduced_Iron</th>\n",
       "      <td>220</td>\n",
       "    </tr>\n",
       "    <tr>\n",
       "      <th>EAF_Dust</th>\n",
       "      <td>-120</td>\n",
       "    </tr>\n",
       "    <tr>\n",
       "      <th>Internal_Low_Alloyed</th>\n",
       "      <td>240</td>\n",
       "    </tr>\n",
       "    <tr>\n",
       "      <th>No1_Bundles</th>\n",
       "      <td>180</td>\n",
       "    </tr>\n",
       "    <tr>\n",
       "      <th>No1_Heavy</th>\n",
       "      <td>160</td>\n",
       "    </tr>\n",
       "    <tr>\n",
       "      <th>No2_Bundles</th>\n",
       "      <td>170</td>\n",
       "    </tr>\n",
       "    <tr>\n",
       "      <th>No2_Heavy</th>\n",
       "      <td>140</td>\n",
       "    </tr>\n",
       "    <tr>\n",
       "      <th>Plate_And_Structural</th>\n",
       "      <td>290</td>\n",
       "    </tr>\n",
       "    <tr>\n",
       "      <th>Shredded</th>\n",
       "      <td>200</td>\n",
       "    </tr>\n",
       "    <tr>\n",
       "      <th>Turnings</th>\n",
       "      <td>110</td>\n",
       "    </tr>\n",
       "  </tbody>\n",
       "</table>\n",
       "</div>"
      ],
      "text/plain": [
       "                      price\n",
       "commodity                  \n",
       "Direct_Reduced_Iron     220\n",
       "EAF_Dust               -120\n",
       "Internal_Low_Alloyed    240\n",
       "No1_Bundles             180\n",
       "No1_Heavy               160\n",
       "No2_Bundles             170\n",
       "No2_Heavy               140\n",
       "Plate_And_Structural    290\n",
       "Shredded                200\n",
       "Turnings                110"
      ]
     },
     "execution_count": 402,
     "metadata": {},
     "output_type": "execute_result"
    }
   ],
   "source": [
    "COSTS"
   ]
  },
  {
   "cell_type": "code",
   "execution_count": 461,
   "metadata": {},
   "outputs": [],
   "source": [
    "f = open('data/steel_university/chemistry.csv')\n",
    "csv_f = csv.reader(f)"
   ]
  },
  {
   "cell_type": "code",
   "execution_count": 462,
   "metadata": {},
   "outputs": [],
   "source": [
    "element_chemistry_data = [l for l in csv_f]"
   ]
  },
  {
   "cell_type": "code",
   "execution_count": 405,
   "metadata": {},
   "outputs": [],
   "source": [
    "#element_chemistry_data"
   ]
  },
  {
   "cell_type": "code",
   "execution_count": 463,
   "metadata": {},
   "outputs": [],
   "source": [
    "re_1 = re.compile('([0-9.]+)%(\\w+)')\n",
    "def create_element_chemistry_df(d=element_chemistry_data):\n",
    "    d2 = {}\n",
    "    all_elements = set()\n",
    "    for l in d:\n",
    "        if not l: continue\n",
    "        #print(l[1:])\n",
    "        d2[l[0]] = dict(map(lambda x: re_1.match(x.strip()).groups()[::-1], l[1:]))  # Ha :)\n",
    "        all_elements.update(d2[l[0]].keys())\n",
    "    cols = list(d2.keys())\n",
    "    cols.sort()\n",
    "    df1 = pd.DataFrame(d2, index=all_elements)\n",
    "    df1.sort_index(inplace=True)\n",
    "    df1 = df1[cols]\n",
    "    df1 = df1.astype('float')\n",
    "    ae = list(all_elements)\n",
    "    ae.sort()\n",
    "    df1.fillna(0.0, inplace=True)\n",
    "    return (df1, ae)\n"
   ]
  },
  {
   "cell_type": "code",
   "execution_count": 464,
   "metadata": {},
   "outputs": [],
   "source": [
    "(A, all_elements) = create_element_chemistry_df()"
   ]
  },
  {
   "cell_type": "code",
   "execution_count": 465,
   "metadata": {},
   "outputs": [
    {
     "data": {
      "text/html": [
       "<div>\n",
       "<style scoped>\n",
       "    .dataframe tbody tr th:only-of-type {\n",
       "        vertical-align: middle;\n",
       "    }\n",
       "\n",
       "    .dataframe tbody tr th {\n",
       "        vertical-align: top;\n",
       "    }\n",
       "\n",
       "    .dataframe thead th {\n",
       "        text-align: right;\n",
       "    }\n",
       "</style>\n",
       "<table border=\"1\" class=\"dataframe\">\n",
       "  <thead>\n",
       "    <tr style=\"text-align: right;\">\n",
       "      <th></th>\n",
       "      <th>Direct_Reduced_Iron</th>\n",
       "      <th>EAF_Dust</th>\n",
       "      <th>Internal_Low_Alloyed</th>\n",
       "      <th>No1_Bundles</th>\n",
       "      <th>No1_Heavy</th>\n",
       "      <th>No2_Bundles</th>\n",
       "      <th>No2_Heavy</th>\n",
       "      <th>Plate_And_Structural</th>\n",
       "      <th>Shredded</th>\n",
       "      <th>Turnings</th>\n",
       "    </tr>\n",
       "  </thead>\n",
       "  <tbody>\n",
       "    <tr>\n",
       "      <th>C</th>\n",
       "      <td>2.40</td>\n",
       "      <td>0.000</td>\n",
       "      <td>0.1700</td>\n",
       "      <td>0.027</td>\n",
       "      <td>0.025</td>\n",
       "      <td>0.040</td>\n",
       "      <td>0.030</td>\n",
       "      <td>0.250</td>\n",
       "      <td>0.030</td>\n",
       "      <td>0.000</td>\n",
       "    </tr>\n",
       "    <tr>\n",
       "      <th>Ca</th>\n",
       "      <td>0.00</td>\n",
       "      <td>0.140</td>\n",
       "      <td>0.0000</td>\n",
       "      <td>0.000</td>\n",
       "      <td>0.000</td>\n",
       "      <td>0.000</td>\n",
       "      <td>0.000</td>\n",
       "      <td>0.000</td>\n",
       "      <td>0.000</td>\n",
       "      <td>0.000</td>\n",
       "    </tr>\n",
       "    <tr>\n",
       "      <th>Ce</th>\n",
       "      <td>0.00</td>\n",
       "      <td>0.000</td>\n",
       "      <td>0.0030</td>\n",
       "      <td>0.000</td>\n",
       "      <td>0.000</td>\n",
       "      <td>0.000</td>\n",
       "      <td>0.000</td>\n",
       "      <td>0.000</td>\n",
       "      <td>0.000</td>\n",
       "      <td>0.000</td>\n",
       "    </tr>\n",
       "    <tr>\n",
       "      <th>Cr</th>\n",
       "      <td>0.00</td>\n",
       "      <td>20.030</td>\n",
       "      <td>0.2600</td>\n",
       "      <td>0.032</td>\n",
       "      <td>0.200</td>\n",
       "      <td>0.032</td>\n",
       "      <td>0.260</td>\n",
       "      <td>0.150</td>\n",
       "      <td>0.120</td>\n",
       "      <td>0.698</td>\n",
       "    </tr>\n",
       "    <tr>\n",
       "      <th>Cu</th>\n",
       "      <td>0.00</td>\n",
       "      <td>0.000</td>\n",
       "      <td>0.0200</td>\n",
       "      <td>0.018</td>\n",
       "      <td>0.180</td>\n",
       "      <td>0.018</td>\n",
       "      <td>0.180</td>\n",
       "      <td>0.000</td>\n",
       "      <td>0.160</td>\n",
       "      <td>0.000</td>\n",
       "    </tr>\n",
       "    <tr>\n",
       "      <th>Mn</th>\n",
       "      <td>0.00</td>\n",
       "      <td>4.440</td>\n",
       "      <td>0.3100</td>\n",
       "      <td>0.120</td>\n",
       "      <td>0.000</td>\n",
       "      <td>0.120</td>\n",
       "      <td>0.000</td>\n",
       "      <td>1.000</td>\n",
       "      <td>0.000</td>\n",
       "      <td>0.000</td>\n",
       "    </tr>\n",
       "    <tr>\n",
       "      <th>Mo</th>\n",
       "      <td>0.00</td>\n",
       "      <td>0.000</td>\n",
       "      <td>0.1400</td>\n",
       "      <td>0.000</td>\n",
       "      <td>0.030</td>\n",
       "      <td>0.000</td>\n",
       "      <td>0.030</td>\n",
       "      <td>0.050</td>\n",
       "      <td>0.020</td>\n",
       "      <td>0.538</td>\n",
       "    </tr>\n",
       "    <tr>\n",
       "      <th>N</th>\n",
       "      <td>0.00</td>\n",
       "      <td>0.000</td>\n",
       "      <td>0.0000</td>\n",
       "      <td>0.000</td>\n",
       "      <td>0.000</td>\n",
       "      <td>0.000</td>\n",
       "      <td>0.000</td>\n",
       "      <td>0.000</td>\n",
       "      <td>0.000</td>\n",
       "      <td>0.000</td>\n",
       "    </tr>\n",
       "    <tr>\n",
       "      <th>Nb</th>\n",
       "      <td>0.03</td>\n",
       "      <td>0.000</td>\n",
       "      <td>0.0010</td>\n",
       "      <td>0.000</td>\n",
       "      <td>0.000</td>\n",
       "      <td>0.000</td>\n",
       "      <td>0.000</td>\n",
       "      <td>0.000</td>\n",
       "      <td>0.000</td>\n",
       "      <td>0.000</td>\n",
       "    </tr>\n",
       "    <tr>\n",
       "      <th>Ni</th>\n",
       "      <td>0.00</td>\n",
       "      <td>11.200</td>\n",
       "      <td>0.4000</td>\n",
       "      <td>0.020</td>\n",
       "      <td>0.150</td>\n",
       "      <td>0.020</td>\n",
       "      <td>0.180</td>\n",
       "      <td>0.150</td>\n",
       "      <td>0.100</td>\n",
       "      <td>0.000</td>\n",
       "    </tr>\n",
       "    <tr>\n",
       "      <th>P</th>\n",
       "      <td>0.10</td>\n",
       "      <td>0.019</td>\n",
       "      <td>0.0130</td>\n",
       "      <td>0.010</td>\n",
       "      <td>0.025</td>\n",
       "      <td>0.010</td>\n",
       "      <td>0.028</td>\n",
       "      <td>0.025</td>\n",
       "      <td>0.020</td>\n",
       "      <td>0.030</td>\n",
       "    </tr>\n",
       "    <tr>\n",
       "      <th>Pb</th>\n",
       "      <td>0.00</td>\n",
       "      <td>0.000</td>\n",
       "      <td>0.0000</td>\n",
       "      <td>0.000</td>\n",
       "      <td>0.000</td>\n",
       "      <td>0.000</td>\n",
       "      <td>0.000</td>\n",
       "      <td>0.000</td>\n",
       "      <td>0.000</td>\n",
       "      <td>0.157</td>\n",
       "    </tr>\n",
       "    <tr>\n",
       "      <th>S</th>\n",
       "      <td>0.01</td>\n",
       "      <td>0.001</td>\n",
       "      <td>0.0014</td>\n",
       "      <td>0.006</td>\n",
       "      <td>0.033</td>\n",
       "      <td>0.006</td>\n",
       "      <td>0.035</td>\n",
       "      <td>0.025</td>\n",
       "      <td>0.030</td>\n",
       "      <td>0.113</td>\n",
       "    </tr>\n",
       "    <tr>\n",
       "      <th>Si</th>\n",
       "      <td>0.00</td>\n",
       "      <td>0.910</td>\n",
       "      <td>0.0400</td>\n",
       "      <td>0.012</td>\n",
       "      <td>0.017</td>\n",
       "      <td>0.016</td>\n",
       "      <td>0.022</td>\n",
       "      <td>0.250</td>\n",
       "      <td>0.015</td>\n",
       "      <td>0.000</td>\n",
       "    </tr>\n",
       "    <tr>\n",
       "      <th>Sn</th>\n",
       "      <td>0.00</td>\n",
       "      <td>0.000</td>\n",
       "      <td>0.0010</td>\n",
       "      <td>0.000</td>\n",
       "      <td>0.014</td>\n",
       "      <td>0.000</td>\n",
       "      <td>0.016</td>\n",
       "      <td>0.220</td>\n",
       "      <td>0.013</td>\n",
       "      <td>0.000</td>\n",
       "    </tr>\n",
       "    <tr>\n",
       "      <th>Ti</th>\n",
       "      <td>0.02</td>\n",
       "      <td>0.003</td>\n",
       "      <td>0.0150</td>\n",
       "      <td>0.001</td>\n",
       "      <td>0.000</td>\n",
       "      <td>0.001</td>\n",
       "      <td>0.000</td>\n",
       "      <td>0.000</td>\n",
       "      <td>0.000</td>\n",
       "      <td>0.000</td>\n",
       "    </tr>\n",
       "    <tr>\n",
       "      <th>V</th>\n",
       "      <td>0.02</td>\n",
       "      <td>0.000</td>\n",
       "      <td>0.0050</td>\n",
       "      <td>0.000</td>\n",
       "      <td>0.000</td>\n",
       "      <td>0.000</td>\n",
       "      <td>0.000</td>\n",
       "      <td>0.000</td>\n",
       "      <td>0.000</td>\n",
       "      <td>0.000</td>\n",
       "    </tr>\n",
       "    <tr>\n",
       "      <th>W</th>\n",
       "      <td>0.00</td>\n",
       "      <td>0.000</td>\n",
       "      <td>0.0090</td>\n",
       "      <td>0.000</td>\n",
       "      <td>0.000</td>\n",
       "      <td>0.000</td>\n",
       "      <td>0.000</td>\n",
       "      <td>0.000</td>\n",
       "      <td>0.000</td>\n",
       "      <td>0.000</td>\n",
       "    </tr>\n",
       "  </tbody>\n",
       "</table>\n",
       "</div>"
      ],
      "text/plain": [
       "    Direct_Reduced_Iron  EAF_Dust  Internal_Low_Alloyed  No1_Bundles  \\\n",
       "C                  2.40     0.000                0.1700        0.027   \n",
       "Ca                 0.00     0.140                0.0000        0.000   \n",
       "Ce                 0.00     0.000                0.0030        0.000   \n",
       "Cr                 0.00    20.030                0.2600        0.032   \n",
       "Cu                 0.00     0.000                0.0200        0.018   \n",
       "Mn                 0.00     4.440                0.3100        0.120   \n",
       "Mo                 0.00     0.000                0.1400        0.000   \n",
       "N                  0.00     0.000                0.0000        0.000   \n",
       "Nb                 0.03     0.000                0.0010        0.000   \n",
       "Ni                 0.00    11.200                0.4000        0.020   \n",
       "P                  0.10     0.019                0.0130        0.010   \n",
       "Pb                 0.00     0.000                0.0000        0.000   \n",
       "S                  0.01     0.001                0.0014        0.006   \n",
       "Si                 0.00     0.910                0.0400        0.012   \n",
       "Sn                 0.00     0.000                0.0010        0.000   \n",
       "Ti                 0.02     0.003                0.0150        0.001   \n",
       "V                  0.02     0.000                0.0050        0.000   \n",
       "W                  0.00     0.000                0.0090        0.000   \n",
       "\n",
       "    No1_Heavy  No2_Bundles  No2_Heavy  Plate_And_Structural  Shredded  \\\n",
       "C       0.025        0.040      0.030                 0.250     0.030   \n",
       "Ca      0.000        0.000      0.000                 0.000     0.000   \n",
       "Ce      0.000        0.000      0.000                 0.000     0.000   \n",
       "Cr      0.200        0.032      0.260                 0.150     0.120   \n",
       "Cu      0.180        0.018      0.180                 0.000     0.160   \n",
       "Mn      0.000        0.120      0.000                 1.000     0.000   \n",
       "Mo      0.030        0.000      0.030                 0.050     0.020   \n",
       "N       0.000        0.000      0.000                 0.000     0.000   \n",
       "Nb      0.000        0.000      0.000                 0.000     0.000   \n",
       "Ni      0.150        0.020      0.180                 0.150     0.100   \n",
       "P       0.025        0.010      0.028                 0.025     0.020   \n",
       "Pb      0.000        0.000      0.000                 0.000     0.000   \n",
       "S       0.033        0.006      0.035                 0.025     0.030   \n",
       "Si      0.017        0.016      0.022                 0.250     0.015   \n",
       "Sn      0.014        0.000      0.016                 0.220     0.013   \n",
       "Ti      0.000        0.001      0.000                 0.000     0.000   \n",
       "V       0.000        0.000      0.000                 0.000     0.000   \n",
       "W       0.000        0.000      0.000                 0.000     0.000   \n",
       "\n",
       "    Turnings  \n",
       "C      0.000  \n",
       "Ca     0.000  \n",
       "Ce     0.000  \n",
       "Cr     0.698  \n",
       "Cu     0.000  \n",
       "Mn     0.000  \n",
       "Mo     0.538  \n",
       "N      0.000  \n",
       "Nb     0.000  \n",
       "Ni     0.000  \n",
       "P      0.030  \n",
       "Pb     0.157  \n",
       "S      0.113  \n",
       "Si     0.000  \n",
       "Sn     0.000  \n",
       "Ti     0.000  \n",
       "V      0.000  \n",
       "W      0.000  "
      ]
     },
     "execution_count": 465,
     "metadata": {},
     "output_type": "execute_result"
    }
   ],
   "source": [
    "A"
   ]
  },
  {
   "cell_type": "code",
   "execution_count": 409,
   "metadata": {},
   "outputs": [
    {
     "data": {
      "text/plain": [
       "(18, 10)"
      ]
     },
     "execution_count": 409,
     "metadata": {},
     "output_type": "execute_result"
    }
   ],
   "source": [
    "A.shape"
   ]
  },
  {
   "cell_type": "code",
   "execution_count": 410,
   "metadata": {},
   "outputs": [
    {
     "data": {
      "text/plain": [
       "18"
      ]
     },
     "execution_count": 410,
     "metadata": {},
     "output_type": "execute_result"
    }
   ],
   "source": [
    "len(all_elements)"
   ]
  },
  {
   "cell_type": "code",
   "execution_count": 70,
   "metadata": {
    "collapsed": true
   },
   "outputs": [
    {
     "data": {
      "text/plain": [
       "['C',\n",
       " 'Ca',\n",
       " 'Ce',\n",
       " 'Cr',\n",
       " 'Cu',\n",
       " 'Mn',\n",
       " 'Mo',\n",
       " 'N',\n",
       " 'Nb',\n",
       " 'Ni',\n",
       " 'P',\n",
       " 'Pb',\n",
       " 'S',\n",
       " 'Si',\n",
       " 'Sn',\n",
       " 'Ti',\n",
       " 'V',\n",
       " 'W']"
      ]
     },
     "execution_count": 70,
     "metadata": {},
     "output_type": "execute_result"
    }
   ],
   "source": [
    "all_elements"
   ]
  },
  {
   "cell_type": "code",
   "execution_count": 466,
   "metadata": {},
   "outputs": [],
   "source": [
    "def create_min_max(f='data/steel_university/req.csv', all_elements=all_elements):\n",
    "    elements_min_max_req = pd.read_csv(f)\n",
    "    elements_min_max_req.set_index('element', inplace=True)\n",
    "    elements_min_max_req = elements_min_max_req.merge(\n",
    "        pd.Series(index=all_elements, name='_tmp'), how='outer', left_index=True, right_index=True)\n",
    "    elements_min_max_req.sort_index(inplace=True)\n",
    "    elements_min_max_req.drop('_tmp', axis=1, inplace=True)\n",
    "    return elements_min_max_req\n"
   ]
  },
  {
   "cell_type": "code",
   "execution_count": 467,
   "metadata": {
    "scrolled": true
   },
   "outputs": [
    {
     "name": "stderr",
     "output_type": "stream",
     "text": [
      "/Users/nishant.deshpande/anaconda3/lib/python3.7/site-packages/ipykernel_launcher.py:5: DeprecationWarning: The default dtype for empty Series will be 'object' instead of 'float64' in a future version. Specify a dtype explicitly to silence this warning.\n",
      "  \"\"\"\n"
     ]
    }
   ],
   "source": [
    "elements_min_max_req = create_min_max()"
   ]
  },
  {
   "cell_type": "code",
   "execution_count": 468,
   "metadata": {},
   "outputs": [
    {
     "data": {
      "text/plain": [
       "(18, 2)"
      ]
     },
     "execution_count": 468,
     "metadata": {},
     "output_type": "execute_result"
    }
   ],
   "source": [
    "elements_min_max_req.shape"
   ]
  },
  {
   "cell_type": "code",
   "execution_count": 469,
   "metadata": {},
   "outputs": [
    {
     "data": {
      "text/html": [
       "<div>\n",
       "<style scoped>\n",
       "    .dataframe tbody tr th:only-of-type {\n",
       "        vertical-align: middle;\n",
       "    }\n",
       "\n",
       "    .dataframe tbody tr th {\n",
       "        vertical-align: top;\n",
       "    }\n",
       "\n",
       "    .dataframe thead th {\n",
       "        text-align: right;\n",
       "    }\n",
       "</style>\n",
       "<table border=\"1\" class=\"dataframe\">\n",
       "  <thead>\n",
       "    <tr style=\"text-align: right;\">\n",
       "      <th></th>\n",
       "      <th>lb</th>\n",
       "      <th>ub</th>\n",
       "    </tr>\n",
       "  </thead>\n",
       "  <tbody>\n",
       "    <tr>\n",
       "      <th>C</th>\n",
       "      <td>0.1</td>\n",
       "      <td>0.120</td>\n",
       "    </tr>\n",
       "    <tr>\n",
       "      <th>Ca</th>\n",
       "      <td>NaN</td>\n",
       "      <td>NaN</td>\n",
       "    </tr>\n",
       "    <tr>\n",
       "      <th>Ce</th>\n",
       "      <td>NaN</td>\n",
       "      <td>NaN</td>\n",
       "    </tr>\n",
       "    <tr>\n",
       "      <th>Cr</th>\n",
       "      <td>0.0</td>\n",
       "      <td>0.100</td>\n",
       "    </tr>\n",
       "    <tr>\n",
       "      <th>Cu</th>\n",
       "      <td>0.0</td>\n",
       "      <td>0.150</td>\n",
       "    </tr>\n",
       "    <tr>\n",
       "      <th>Mn</th>\n",
       "      <td>1.0</td>\n",
       "      <td>1.500</td>\n",
       "    </tr>\n",
       "    <tr>\n",
       "      <th>Mo</th>\n",
       "      <td>0.0</td>\n",
       "      <td>0.040</td>\n",
       "    </tr>\n",
       "    <tr>\n",
       "      <th>N</th>\n",
       "      <td>0.0</td>\n",
       "      <td>0.005</td>\n",
       "    </tr>\n",
       "    <tr>\n",
       "      <th>Nb</th>\n",
       "      <td>0.0</td>\n",
       "      <td>0.050</td>\n",
       "    </tr>\n",
       "    <tr>\n",
       "      <th>Ni</th>\n",
       "      <td>0.0</td>\n",
       "      <td>0.150</td>\n",
       "    </tr>\n",
       "    <tr>\n",
       "      <th>P</th>\n",
       "      <td>0.0</td>\n",
       "      <td>0.020</td>\n",
       "    </tr>\n",
       "    <tr>\n",
       "      <th>Pb</th>\n",
       "      <td>NaN</td>\n",
       "      <td>NaN</td>\n",
       "    </tr>\n",
       "    <tr>\n",
       "      <th>S</th>\n",
       "      <td>0.0</td>\n",
       "      <td>0.030</td>\n",
       "    </tr>\n",
       "    <tr>\n",
       "      <th>Si</th>\n",
       "      <td>0.1</td>\n",
       "      <td>0.300</td>\n",
       "    </tr>\n",
       "    <tr>\n",
       "      <th>Sn</th>\n",
       "      <td>NaN</td>\n",
       "      <td>NaN</td>\n",
       "    </tr>\n",
       "    <tr>\n",
       "      <th>Ti</th>\n",
       "      <td>0.0</td>\n",
       "      <td>0.010</td>\n",
       "    </tr>\n",
       "    <tr>\n",
       "      <th>V</th>\n",
       "      <td>NaN</td>\n",
       "      <td>NaN</td>\n",
       "    </tr>\n",
       "    <tr>\n",
       "      <th>W</th>\n",
       "      <td>NaN</td>\n",
       "      <td>NaN</td>\n",
       "    </tr>\n",
       "  </tbody>\n",
       "</table>\n",
       "</div>"
      ],
      "text/plain": [
       "     lb     ub\n",
       "C   0.1  0.120\n",
       "Ca  NaN    NaN\n",
       "Ce  NaN    NaN\n",
       "Cr  0.0  0.100\n",
       "Cu  0.0  0.150\n",
       "Mn  1.0  1.500\n",
       "Mo  0.0  0.040\n",
       "N   0.0  0.005\n",
       "Nb  0.0  0.050\n",
       "Ni  0.0  0.150\n",
       "P   0.0  0.020\n",
       "Pb  NaN    NaN\n",
       "S   0.0  0.030\n",
       "Si  0.1  0.300\n",
       "Sn  NaN    NaN\n",
       "Ti  0.0  0.010\n",
       "V   NaN    NaN\n",
       "W   NaN    NaN"
      ]
     },
     "execution_count": 469,
     "metadata": {},
     "output_type": "execute_result"
    }
   ],
   "source": [
    "elements_min_max_req"
   ]
  },
  {
   "cell_type": "code",
   "execution_count": 470,
   "metadata": {},
   "outputs": [],
   "source": [
    "def f1(x, *args):\n",
    "    # x: np.array of weights of commodities (position according to alphabetical sort of commodity names as for COSTS\n",
    "    costs = args[0] # pass COSTS like data as the first arg\n",
    "    return costs.price.dot(x)"
   ]
  },
  {
   "cell_type": "code",
   "execution_count": 471,
   "metadata": {},
   "outputs": [],
   "source": [
    "def f1p(x, *args):\n",
    "    costs = args[0]\n",
    "    return costs.price * 1.0"
   ]
  },
  {
   "cell_type": "code",
   "execution_count": 472,
   "metadata": {},
   "outputs": [],
   "source": [
    "x = pd.Series(10, index=COSTS.index.values)"
   ]
  },
  {
   "cell_type": "code",
   "execution_count": 473,
   "metadata": {},
   "outputs": [],
   "source": [
    "v = f1(x, COSTS)"
   ]
  },
  {
   "cell_type": "code",
   "execution_count": 474,
   "metadata": {},
   "outputs": [
    {
     "data": {
      "text/plain": [
       "15900"
      ]
     },
     "execution_count": 474,
     "metadata": {},
     "output_type": "execute_result"
    }
   ],
   "source": [
    "v"
   ]
  },
  {
   "cell_type": "code",
   "execution_count": 420,
   "metadata": {
    "collapsed": true
   },
   "outputs": [
    {
     "data": {
      "text/html": [
       "<div>\n",
       "<style scoped>\n",
       "    .dataframe tbody tr th:only-of-type {\n",
       "        vertical-align: middle;\n",
       "    }\n",
       "\n",
       "    .dataframe tbody tr th {\n",
       "        vertical-align: top;\n",
       "    }\n",
       "\n",
       "    .dataframe thead th {\n",
       "        text-align: right;\n",
       "    }\n",
       "</style>\n",
       "<table border=\"1\" class=\"dataframe\">\n",
       "  <thead>\n",
       "    <tr style=\"text-align: right;\">\n",
       "      <th></th>\n",
       "      <th>price</th>\n",
       "    </tr>\n",
       "    <tr>\n",
       "      <th>commodity</th>\n",
       "      <th></th>\n",
       "    </tr>\n",
       "  </thead>\n",
       "  <tbody>\n",
       "    <tr>\n",
       "      <th>Direct_Reduced_Iron</th>\n",
       "      <td>220</td>\n",
       "    </tr>\n",
       "    <tr>\n",
       "      <th>EAF_Dust</th>\n",
       "      <td>-120</td>\n",
       "    </tr>\n",
       "    <tr>\n",
       "      <th>Internal_Low_Alloyed</th>\n",
       "      <td>240</td>\n",
       "    </tr>\n",
       "    <tr>\n",
       "      <th>No1_Bundles</th>\n",
       "      <td>180</td>\n",
       "    </tr>\n",
       "    <tr>\n",
       "      <th>No1_Heavy</th>\n",
       "      <td>160</td>\n",
       "    </tr>\n",
       "    <tr>\n",
       "      <th>No2_Bundles</th>\n",
       "      <td>170</td>\n",
       "    </tr>\n",
       "    <tr>\n",
       "      <th>No2_Heavy</th>\n",
       "      <td>140</td>\n",
       "    </tr>\n",
       "    <tr>\n",
       "      <th>Plate_And_Structural</th>\n",
       "      <td>290</td>\n",
       "    </tr>\n",
       "    <tr>\n",
       "      <th>Shredded</th>\n",
       "      <td>200</td>\n",
       "    </tr>\n",
       "    <tr>\n",
       "      <th>Turnings</th>\n",
       "      <td>110</td>\n",
       "    </tr>\n",
       "  </tbody>\n",
       "</table>\n",
       "</div>"
      ],
      "text/plain": [
       "                      price\n",
       "commodity                  \n",
       "Direct_Reduced_Iron     220\n",
       "EAF_Dust               -120\n",
       "Internal_Low_Alloyed    240\n",
       "No1_Bundles             180\n",
       "No1_Heavy               160\n",
       "No2_Bundles             170\n",
       "No2_Heavy               140\n",
       "Plate_And_Structural    290\n",
       "Shredded                200\n",
       "Turnings                110"
      ]
     },
     "execution_count": 420,
     "metadata": {},
     "output_type": "execute_result"
    }
   ],
   "source": [
    "COSTS"
   ]
  },
  {
   "cell_type": "code",
   "execution_count": 475,
   "metadata": {},
   "outputs": [
    {
     "data": {
      "text/plain": [
       "Direct_Reduced_Iron     10\n",
       "EAF_Dust                10\n",
       "Internal_Low_Alloyed    10\n",
       "No1_Bundles             10\n",
       "No1_Heavy               10\n",
       "No2_Bundles             10\n",
       "No2_Heavy               10\n",
       "Plate_And_Structural    10\n",
       "Shredded                10\n",
       "Turnings                10\n",
       "dtype: int64"
      ]
     },
     "execution_count": 475,
     "metadata": {},
     "output_type": "execute_result"
    }
   ],
   "source": [
    "x"
   ]
  },
  {
   "cell_type": "code",
   "execution_count": 422,
   "metadata": {},
   "outputs": [
    {
     "name": "stdout",
     "output_type": "stream",
     "text": [
      "(18, 10) (10,)\n"
     ]
    }
   ],
   "source": [
    "print(A.shape, x.shape)"
   ]
  },
  {
   "cell_type": "code",
   "execution_count": 476,
   "metadata": {},
   "outputs": [],
   "source": [
    "A.fillna(0.0, inplace=True)"
   ]
  },
  {
   "cell_type": "code",
   "execution_count": 477,
   "metadata": {},
   "outputs": [],
   "source": [
    "lb = elements_min_max_req.lb*100\n",
    "ub = elements_min_max_req.ub*100"
   ]
  },
  {
   "cell_type": "code",
   "execution_count": 478,
   "metadata": {},
   "outputs": [],
   "source": [
    "ub.fillna(9999999, inplace=True)\n",
    "lb.fillna(0, inplace=True)"
   ]
  },
  {
   "cell_type": "code",
   "execution_count": 479,
   "metadata": {},
   "outputs": [
    {
     "name": "stdout",
     "output_type": "stream",
     "text": [
      "       lb         ub\n",
      "C    10.0       12.0\n",
      "Ca    0.0  9999999.0\n",
      "Ce    0.0  9999999.0\n",
      "Cr    0.0       10.0\n",
      "Cu    0.0       15.0\n",
      "Mn  100.0      150.0\n",
      "Mo    0.0        4.0\n",
      "N     0.0        0.5\n",
      "Nb    0.0        5.0\n",
      "Ni    0.0       15.0\n",
      "P     0.0        2.0\n",
      "Pb    0.0  9999999.0\n",
      "S     0.0        3.0\n",
      "Si   10.0       30.0\n",
      "Sn    0.0  9999999.0\n",
      "Ti    0.0        1.0\n",
      "V     0.0  9999999.0\n",
      "W     0.0  9999999.0\n"
     ]
    }
   ],
   "source": [
    "print(pd.DataFrame({'lb':lb, 'ub':ub}))"
   ]
  },
  {
   "cell_type": "code",
   "execution_count": 480,
   "metadata": {},
   "outputs": [
    {
     "name": "stdout",
     "output_type": "stream",
     "text": [
      "(18,) (18,)\n"
     ]
    }
   ],
   "source": [
    "print(lb.shape, ub.shape)"
   ]
  },
  {
   "cell_type": "code",
   "execution_count": 481,
   "metadata": {},
   "outputs": [],
   "source": [
    "constraint1 = scipy.optimize.LinearConstraint(A=A, lb=lb, ub=ub)\n",
    "#constraint1 = scipy.optimize.LinearConstraint(A=A, lb=lb, ub=lb)\n"
   ]
  },
  {
   "cell_type": "code",
   "execution_count": 482,
   "metadata": {},
   "outputs": [
    {
     "name": "stdout",
     "output_type": "stream",
     "text": [
      "(18,) (18,) (18, 10)\n"
     ]
    }
   ],
   "source": [
    "print(lb.shape, ub.shape, A.shape)"
   ]
  },
  {
   "cell_type": "code",
   "execution_count": 484,
   "metadata": {},
   "outputs": [],
   "source": [
    "o1 = A[0:0]"
   ]
  },
  {
   "cell_type": "code",
   "execution_count": 485,
   "metadata": {},
   "outputs": [
    {
     "data": {
      "text/html": [
       "<div>\n",
       "<style scoped>\n",
       "    .dataframe tbody tr th:only-of-type {\n",
       "        vertical-align: middle;\n",
       "    }\n",
       "\n",
       "    .dataframe tbody tr th {\n",
       "        vertical-align: top;\n",
       "    }\n",
       "\n",
       "    .dataframe thead th {\n",
       "        text-align: right;\n",
       "    }\n",
       "</style>\n",
       "<table border=\"1\" class=\"dataframe\">\n",
       "  <thead>\n",
       "    <tr style=\"text-align: right;\">\n",
       "      <th></th>\n",
       "      <th>Direct_Reduced_Iron</th>\n",
       "      <th>EAF_Dust</th>\n",
       "      <th>Internal_Low_Alloyed</th>\n",
       "      <th>No1_Bundles</th>\n",
       "      <th>No1_Heavy</th>\n",
       "      <th>No2_Bundles</th>\n",
       "      <th>No2_Heavy</th>\n",
       "      <th>Plate_And_Structural</th>\n",
       "      <th>Shredded</th>\n",
       "      <th>Turnings</th>\n",
       "    </tr>\n",
       "  </thead>\n",
       "  <tbody>\n",
       "  </tbody>\n",
       "</table>\n",
       "</div>"
      ],
      "text/plain": [
       "Empty DataFrame\n",
       "Columns: [Direct_Reduced_Iron, EAF_Dust, Internal_Low_Alloyed, No1_Bundles, No1_Heavy, No2_Bundles, No2_Heavy, Plate_And_Structural, Shredded, Turnings]\n",
       "Index: []"
      ]
     },
     "execution_count": 485,
     "metadata": {},
     "output_type": "execute_result"
    }
   ],
   "source": [
    "o1"
   ]
  },
  {
   "cell_type": "code",
   "execution_count": 486,
   "metadata": {},
   "outputs": [
    {
     "name": "stderr",
     "output_type": "stream",
     "text": [
      "/Users/nishant.deshpande/anaconda3/lib/python3.7/site-packages/pandas/core/indexing.py:670: SettingWithCopyWarning: \n",
      "A value is trying to be set on a copy of a slice from a DataFrame\n",
      "\n",
      "See the caveats in the documentation: https://pandas.pydata.org/pandas-docs/stable/user_guide/indexing.html#returning-a-view-versus-a-copy\n",
      "  self._setitem_with_indexer(indexer, value)\n"
     ]
    }
   ],
   "source": [
    "o1.loc['weight_factor'] = 1"
   ]
  },
  {
   "cell_type": "code",
   "execution_count": 487,
   "metadata": {
    "scrolled": true
   },
   "outputs": [
    {
     "name": "stdout",
     "output_type": "stream",
     "text": [
      "(1, 10) (10,)\n"
     ]
    }
   ],
   "source": [
    "print(o1.shape, x.shape)"
   ]
  },
  {
   "cell_type": "code",
   "execution_count": 488,
   "metadata": {},
   "outputs": [
    {
     "data": {
      "text/plain": [
       "weight_factor    100.0\n",
       "dtype: float64"
      ]
     },
     "execution_count": 488,
     "metadata": {},
     "output_type": "execute_result"
    }
   ],
   "source": [
    "o1.dot(x)"
   ]
  },
  {
   "cell_type": "code",
   "execution_count": 489,
   "metadata": {},
   "outputs": [],
   "source": [
    "constraint2 = scipy.optimize.LinearConstraint(A=o1, lb=100, ub=100)"
   ]
  },
  {
   "cell_type": "code",
   "execution_count": 490,
   "metadata": {},
   "outputs": [
    {
     "name": "stdout",
     "output_type": "stream",
     "text": [
      "(10,) (1, 10) (18, 10) (18,) (18,)\n"
     ]
    }
   ],
   "source": [
    "print(x.shape, o1.shape, A.shape, ub.shape, lb.shape)"
   ]
  },
  {
   "cell_type": "code",
   "execution_count": 491,
   "metadata": {},
   "outputs": [],
   "source": [
    "x_bounds = [(0.0,TOTAL_WEIGHT*1.0) for e in x]"
   ]
  },
  {
   "cell_type": "code",
   "execution_count": 492,
   "metadata": {
    "scrolled": true
   },
   "outputs": [
    {
     "data": {
      "text/plain": [
       "[(0.0, 100.0),\n",
       " (0.0, 100.0),\n",
       " (0.0, 100.0),\n",
       " (0.0, 100.0),\n",
       " (0.0, 100.0),\n",
       " (0.0, 100.0),\n",
       " (0.0, 100.0),\n",
       " (0.0, 100.0),\n",
       " (0.0, 100.0),\n",
       " (0.0, 100.0)]"
      ]
     },
     "execution_count": 492,
     "metadata": {},
     "output_type": "execute_result"
    }
   ],
   "source": [
    "x_bounds"
   ]
  },
  {
   "cell_type": "code",
   "execution_count": 493,
   "metadata": {},
   "outputs": [],
   "source": [
    "b1 = scipy.optimize.Bounds(lb=np.array([0]*10), ub=np.array([TOTAL_WEIGHT*1.0]*10))"
   ]
  },
  {
   "cell_type": "code",
   "execution_count": 494,
   "metadata": {},
   "outputs": [],
   "source": [
    "def cb1(xk, state):\n",
    "    print('xk: ', xk)\n",
    "    print('state.x: ', state.x)"
   ]
  },
  {
   "cell_type": "code",
   "execution_count": 495,
   "metadata": {},
   "outputs": [],
   "source": [
    "def cb2(xk):\n",
    "    print('xk: ', xk)\n"
   ]
  },
  {
   "cell_type": "code",
   "execution_count": 496,
   "metadata": {},
   "outputs": [
    {
     "name": "stdout",
     "output_type": "stream",
     "text": [
      "xk:  [2.06265153e+00 9.92251670e+00 2.52191157e-10 1.11130320e+01\n",
      " 6.96216154e+00 2.13601514e+01 2.44771137e+01 1.19472438e+01\n",
      " 1.07347020e-10 1.21551293e+01]\n",
      "xk:  [ 2.01815746  9.91072335  0.          5.18748322  0.         28.29191025\n",
      " 30.49894533 11.87886109  0.         12.2139193 ]\n",
      "xk:  [ 1.98766498  9.90829289  0.          0.          0.         33.35315772\n",
      " 30.6425848  11.90480069  0.         12.20349893]\n",
      "xk:  [ 1.98766498  9.9082929   0.          0.          0.         33.35315773\n",
      " 30.64258481 11.90480069  0.         12.20349893]\n",
      "xk:  [ 1.98766498  9.90829289  0.          0.          0.         33.35315772\n",
      " 30.64258481 11.90480069  0.         12.20349893]\n",
      "xk:  [ 1.98766498  9.90829289  0.          0.          0.         33.35315773\n",
      " 30.64258481 11.90480069  0.         12.20349893]\n",
      "xk:  [ 1.98766467  9.90829325  0.          0.          0.         33.35315809\n",
      " 30.64258492 11.9048004   0.         12.20349897]\n",
      "xk:  [ 1.98766182  9.90829605  0.          0.          0.         33.35316093\n",
      " 30.64258563 11.90479778  0.         12.2034991 ]\n",
      "xk:  [ 1.98766498  9.90829291  0.          0.          0.         33.35315772\n",
      " 30.64258481 11.90480068  0.         12.20349893]\n",
      "xk:  [ 1.98766484  9.9082934   0.          0.          0.         33.35315769\n",
      " 30.64258481 11.90480042  0.         12.203499  ]\n",
      "xk:  [ 1.98766484  9.90829337  0.          0.          0.         33.35315781\n",
      " 30.64258468 11.90480039  0.         12.20349899]\n",
      "xk:  [ 1.98766143  9.90830443  0.          0.          0.         33.35315831\n",
      " 30.64258297 11.90479369  0.         12.20350037]\n",
      "xk:  [ 1.98752382  9.9087346   0.          0.          0.         33.35317679\n",
      " 30.64250983 11.90452674  0.         12.20355084]\n",
      "xk:  [ 1.98766493  9.90829307  0.          0.          0.         33.35315773\n",
      " 30.64258478 11.90480058  0.         12.20349895]\n",
      "xk:  [ 1.98766493  9.90829305  0.          0.          0.         33.35315773\n",
      " 30.64258478 11.90480059  0.         12.20349895]\n"
     ]
    }
   ],
   "source": [
    "res = scipy.optimize.minimize(fun=f1, x0=x, args=(COSTS,), method='SLSQP', # method='trust-constr', \n",
    "                              jac=f1p,\n",
    "                              constraints=[constraint1, constraint2],\n",
    "                             bounds=b1, callback=cb2)"
   ]
  },
  {
   "cell_type": "code",
   "execution_count": 497,
   "metadata": {
    "scrolled": true
   },
   "outputs": [
    {
     "data": {
      "text/plain": [
       "     fun: 14003.066857167223\n",
       "     jac: array([ 220., -120.,  240.,  180.,  160.,  170.,  140.,  290.,  200.,\n",
       "        110.])\n",
       " message: 'Positive directional derivative for linesearch'\n",
       "    nfev: 122\n",
       "     nit: 19\n",
       "    njev: 15\n",
       "  status: 8\n",
       " success: False\n",
       "       x: array([ 1.98766493,  9.90829305,  0.        ,  0.        ,  0.        ,\n",
       "       33.35315773, 30.64258478, 11.90480059,  0.        , 12.20349895])"
      ]
     },
     "execution_count": 497,
     "metadata": {},
     "output_type": "execute_result"
    }
   ],
   "source": [
    "res"
   ]
  },
  {
   "cell_type": "code",
   "execution_count": 498,
   "metadata": {},
   "outputs": [
    {
     "data": {
      "text/html": [
       "<div>\n",
       "<style scoped>\n",
       "    .dataframe tbody tr th:only-of-type {\n",
       "        vertical-align: middle;\n",
       "    }\n",
       "\n",
       "    .dataframe tbody tr th {\n",
       "        vertical-align: top;\n",
       "    }\n",
       "\n",
       "    .dataframe thead th {\n",
       "        text-align: right;\n",
       "    }\n",
       "</style>\n",
       "<table border=\"1\" class=\"dataframe\">\n",
       "  <thead>\n",
       "    <tr style=\"text-align: right;\">\n",
       "      <th></th>\n",
       "      <th>Direct_Reduced_Iron</th>\n",
       "      <th>EAF_Dust</th>\n",
       "      <th>Internal_Low_Alloyed</th>\n",
       "      <th>No1_Bundles</th>\n",
       "      <th>No1_Heavy</th>\n",
       "      <th>No2_Bundles</th>\n",
       "      <th>No2_Heavy</th>\n",
       "      <th>Plate_And_Structural</th>\n",
       "      <th>Shredded</th>\n",
       "      <th>Turnings</th>\n",
       "    </tr>\n",
       "  </thead>\n",
       "  <tbody>\n",
       "    <tr>\n",
       "      <th>C</th>\n",
       "      <td>2.40</td>\n",
       "      <td>0.000</td>\n",
       "      <td>0.1700</td>\n",
       "      <td>0.027</td>\n",
       "      <td>0.025</td>\n",
       "      <td>0.040</td>\n",
       "      <td>0.030</td>\n",
       "      <td>0.250</td>\n",
       "      <td>0.030</td>\n",
       "      <td>0.000</td>\n",
       "    </tr>\n",
       "    <tr>\n",
       "      <th>Ca</th>\n",
       "      <td>0.00</td>\n",
       "      <td>0.140</td>\n",
       "      <td>0.0000</td>\n",
       "      <td>0.000</td>\n",
       "      <td>0.000</td>\n",
       "      <td>0.000</td>\n",
       "      <td>0.000</td>\n",
       "      <td>0.000</td>\n",
       "      <td>0.000</td>\n",
       "      <td>0.000</td>\n",
       "    </tr>\n",
       "    <tr>\n",
       "      <th>Ce</th>\n",
       "      <td>0.00</td>\n",
       "      <td>0.000</td>\n",
       "      <td>0.0030</td>\n",
       "      <td>0.000</td>\n",
       "      <td>0.000</td>\n",
       "      <td>0.000</td>\n",
       "      <td>0.000</td>\n",
       "      <td>0.000</td>\n",
       "      <td>0.000</td>\n",
       "      <td>0.000</td>\n",
       "    </tr>\n",
       "    <tr>\n",
       "      <th>Cr</th>\n",
       "      <td>0.00</td>\n",
       "      <td>20.030</td>\n",
       "      <td>0.2600</td>\n",
       "      <td>0.032</td>\n",
       "      <td>0.200</td>\n",
       "      <td>0.032</td>\n",
       "      <td>0.260</td>\n",
       "      <td>0.150</td>\n",
       "      <td>0.120</td>\n",
       "      <td>0.698</td>\n",
       "    </tr>\n",
       "    <tr>\n",
       "      <th>Cu</th>\n",
       "      <td>0.00</td>\n",
       "      <td>0.000</td>\n",
       "      <td>0.0200</td>\n",
       "      <td>0.018</td>\n",
       "      <td>0.180</td>\n",
       "      <td>0.018</td>\n",
       "      <td>0.180</td>\n",
       "      <td>0.000</td>\n",
       "      <td>0.160</td>\n",
       "      <td>0.000</td>\n",
       "    </tr>\n",
       "    <tr>\n",
       "      <th>Mn</th>\n",
       "      <td>0.00</td>\n",
       "      <td>4.440</td>\n",
       "      <td>0.3100</td>\n",
       "      <td>0.120</td>\n",
       "      <td>0.000</td>\n",
       "      <td>0.120</td>\n",
       "      <td>0.000</td>\n",
       "      <td>1.000</td>\n",
       "      <td>0.000</td>\n",
       "      <td>0.000</td>\n",
       "    </tr>\n",
       "    <tr>\n",
       "      <th>Mo</th>\n",
       "      <td>0.00</td>\n",
       "      <td>0.000</td>\n",
       "      <td>0.1400</td>\n",
       "      <td>0.000</td>\n",
       "      <td>0.030</td>\n",
       "      <td>0.000</td>\n",
       "      <td>0.030</td>\n",
       "      <td>0.050</td>\n",
       "      <td>0.020</td>\n",
       "      <td>0.538</td>\n",
       "    </tr>\n",
       "    <tr>\n",
       "      <th>N</th>\n",
       "      <td>0.00</td>\n",
       "      <td>0.000</td>\n",
       "      <td>0.0000</td>\n",
       "      <td>0.000</td>\n",
       "      <td>0.000</td>\n",
       "      <td>0.000</td>\n",
       "      <td>0.000</td>\n",
       "      <td>0.000</td>\n",
       "      <td>0.000</td>\n",
       "      <td>0.000</td>\n",
       "    </tr>\n",
       "    <tr>\n",
       "      <th>Nb</th>\n",
       "      <td>0.03</td>\n",
       "      <td>0.000</td>\n",
       "      <td>0.0010</td>\n",
       "      <td>0.000</td>\n",
       "      <td>0.000</td>\n",
       "      <td>0.000</td>\n",
       "      <td>0.000</td>\n",
       "      <td>0.000</td>\n",
       "      <td>0.000</td>\n",
       "      <td>0.000</td>\n",
       "    </tr>\n",
       "    <tr>\n",
       "      <th>Ni</th>\n",
       "      <td>0.00</td>\n",
       "      <td>11.200</td>\n",
       "      <td>0.4000</td>\n",
       "      <td>0.020</td>\n",
       "      <td>0.150</td>\n",
       "      <td>0.020</td>\n",
       "      <td>0.180</td>\n",
       "      <td>0.150</td>\n",
       "      <td>0.100</td>\n",
       "      <td>0.000</td>\n",
       "    </tr>\n",
       "    <tr>\n",
       "      <th>P</th>\n",
       "      <td>0.10</td>\n",
       "      <td>0.019</td>\n",
       "      <td>0.0130</td>\n",
       "      <td>0.010</td>\n",
       "      <td>0.025</td>\n",
       "      <td>0.010</td>\n",
       "      <td>0.028</td>\n",
       "      <td>0.025</td>\n",
       "      <td>0.020</td>\n",
       "      <td>0.030</td>\n",
       "    </tr>\n",
       "    <tr>\n",
       "      <th>Pb</th>\n",
       "      <td>0.00</td>\n",
       "      <td>0.000</td>\n",
       "      <td>0.0000</td>\n",
       "      <td>0.000</td>\n",
       "      <td>0.000</td>\n",
       "      <td>0.000</td>\n",
       "      <td>0.000</td>\n",
       "      <td>0.000</td>\n",
       "      <td>0.000</td>\n",
       "      <td>0.157</td>\n",
       "    </tr>\n",
       "    <tr>\n",
       "      <th>S</th>\n",
       "      <td>0.01</td>\n",
       "      <td>0.001</td>\n",
       "      <td>0.0014</td>\n",
       "      <td>0.006</td>\n",
       "      <td>0.033</td>\n",
       "      <td>0.006</td>\n",
       "      <td>0.035</td>\n",
       "      <td>0.025</td>\n",
       "      <td>0.030</td>\n",
       "      <td>0.113</td>\n",
       "    </tr>\n",
       "    <tr>\n",
       "      <th>Si</th>\n",
       "      <td>0.00</td>\n",
       "      <td>0.910</td>\n",
       "      <td>0.0400</td>\n",
       "      <td>0.012</td>\n",
       "      <td>0.017</td>\n",
       "      <td>0.016</td>\n",
       "      <td>0.022</td>\n",
       "      <td>0.250</td>\n",
       "      <td>0.015</td>\n",
       "      <td>0.000</td>\n",
       "    </tr>\n",
       "    <tr>\n",
       "      <th>Sn</th>\n",
       "      <td>0.00</td>\n",
       "      <td>0.000</td>\n",
       "      <td>0.0010</td>\n",
       "      <td>0.000</td>\n",
       "      <td>0.014</td>\n",
       "      <td>0.000</td>\n",
       "      <td>0.016</td>\n",
       "      <td>0.220</td>\n",
       "      <td>0.013</td>\n",
       "      <td>0.000</td>\n",
       "    </tr>\n",
       "    <tr>\n",
       "      <th>Ti</th>\n",
       "      <td>0.02</td>\n",
       "      <td>0.003</td>\n",
       "      <td>0.0150</td>\n",
       "      <td>0.001</td>\n",
       "      <td>0.000</td>\n",
       "      <td>0.001</td>\n",
       "      <td>0.000</td>\n",
       "      <td>0.000</td>\n",
       "      <td>0.000</td>\n",
       "      <td>0.000</td>\n",
       "    </tr>\n",
       "    <tr>\n",
       "      <th>V</th>\n",
       "      <td>0.02</td>\n",
       "      <td>0.000</td>\n",
       "      <td>0.0050</td>\n",
       "      <td>0.000</td>\n",
       "      <td>0.000</td>\n",
       "      <td>0.000</td>\n",
       "      <td>0.000</td>\n",
       "      <td>0.000</td>\n",
       "      <td>0.000</td>\n",
       "      <td>0.000</td>\n",
       "    </tr>\n",
       "    <tr>\n",
       "      <th>W</th>\n",
       "      <td>0.00</td>\n",
       "      <td>0.000</td>\n",
       "      <td>0.0090</td>\n",
       "      <td>0.000</td>\n",
       "      <td>0.000</td>\n",
       "      <td>0.000</td>\n",
       "      <td>0.000</td>\n",
       "      <td>0.000</td>\n",
       "      <td>0.000</td>\n",
       "      <td>0.000</td>\n",
       "    </tr>\n",
       "  </tbody>\n",
       "</table>\n",
       "</div>"
      ],
      "text/plain": [
       "    Direct_Reduced_Iron  EAF_Dust  Internal_Low_Alloyed  No1_Bundles  \\\n",
       "C                  2.40     0.000                0.1700        0.027   \n",
       "Ca                 0.00     0.140                0.0000        0.000   \n",
       "Ce                 0.00     0.000                0.0030        0.000   \n",
       "Cr                 0.00    20.030                0.2600        0.032   \n",
       "Cu                 0.00     0.000                0.0200        0.018   \n",
       "Mn                 0.00     4.440                0.3100        0.120   \n",
       "Mo                 0.00     0.000                0.1400        0.000   \n",
       "N                  0.00     0.000                0.0000        0.000   \n",
       "Nb                 0.03     0.000                0.0010        0.000   \n",
       "Ni                 0.00    11.200                0.4000        0.020   \n",
       "P                  0.10     0.019                0.0130        0.010   \n",
       "Pb                 0.00     0.000                0.0000        0.000   \n",
       "S                  0.01     0.001                0.0014        0.006   \n",
       "Si                 0.00     0.910                0.0400        0.012   \n",
       "Sn                 0.00     0.000                0.0010        0.000   \n",
       "Ti                 0.02     0.003                0.0150        0.001   \n",
       "V                  0.02     0.000                0.0050        0.000   \n",
       "W                  0.00     0.000                0.0090        0.000   \n",
       "\n",
       "    No1_Heavy  No2_Bundles  No2_Heavy  Plate_And_Structural  Shredded  \\\n",
       "C       0.025        0.040      0.030                 0.250     0.030   \n",
       "Ca      0.000        0.000      0.000                 0.000     0.000   \n",
       "Ce      0.000        0.000      0.000                 0.000     0.000   \n",
       "Cr      0.200        0.032      0.260                 0.150     0.120   \n",
       "Cu      0.180        0.018      0.180                 0.000     0.160   \n",
       "Mn      0.000        0.120      0.000                 1.000     0.000   \n",
       "Mo      0.030        0.000      0.030                 0.050     0.020   \n",
       "N       0.000        0.000      0.000                 0.000     0.000   \n",
       "Nb      0.000        0.000      0.000                 0.000     0.000   \n",
       "Ni      0.150        0.020      0.180                 0.150     0.100   \n",
       "P       0.025        0.010      0.028                 0.025     0.020   \n",
       "Pb      0.000        0.000      0.000                 0.000     0.000   \n",
       "S       0.033        0.006      0.035                 0.025     0.030   \n",
       "Si      0.017        0.016      0.022                 0.250     0.015   \n",
       "Sn      0.014        0.000      0.016                 0.220     0.013   \n",
       "Ti      0.000        0.001      0.000                 0.000     0.000   \n",
       "V       0.000        0.000      0.000                 0.000     0.000   \n",
       "W       0.000        0.000      0.000                 0.000     0.000   \n",
       "\n",
       "    Turnings  \n",
       "C      0.000  \n",
       "Ca     0.000  \n",
       "Ce     0.000  \n",
       "Cr     0.698  \n",
       "Cu     0.000  \n",
       "Mn     0.000  \n",
       "Mo     0.538  \n",
       "N      0.000  \n",
       "Nb     0.000  \n",
       "Ni     0.000  \n",
       "P      0.030  \n",
       "Pb     0.157  \n",
       "S      0.113  \n",
       "Si     0.000  \n",
       "Sn     0.000  \n",
       "Ti     0.000  \n",
       "V      0.000  \n",
       "W      0.000  "
      ]
     },
     "execution_count": 498,
     "metadata": {},
     "output_type": "execute_result"
    }
   ],
   "source": [
    "A"
   ]
  },
  {
   "cell_type": "code",
   "execution_count": 499,
   "metadata": {},
   "outputs": [
    {
     "data": {
      "text/plain": [
       "(10, 1)"
      ]
     },
     "execution_count": 499,
     "metadata": {},
     "output_type": "execute_result"
    }
   ],
   "source": [
    "COSTS.shape"
   ]
  },
  {
   "cell_type": "code",
   "execution_count": 500,
   "metadata": {},
   "outputs": [],
   "source": [
    "sol1 = COSTS.copy()"
   ]
  },
  {
   "cell_type": "code",
   "execution_count": 501,
   "metadata": {},
   "outputs": [
    {
     "data": {
      "text/html": [
       "<div>\n",
       "<style scoped>\n",
       "    .dataframe tbody tr th:only-of-type {\n",
       "        vertical-align: middle;\n",
       "    }\n",
       "\n",
       "    .dataframe tbody tr th {\n",
       "        vertical-align: top;\n",
       "    }\n",
       "\n",
       "    .dataframe thead th {\n",
       "        text-align: right;\n",
       "    }\n",
       "</style>\n",
       "<table border=\"1\" class=\"dataframe\">\n",
       "  <thead>\n",
       "    <tr style=\"text-align: right;\">\n",
       "      <th></th>\n",
       "      <th>price</th>\n",
       "    </tr>\n",
       "    <tr>\n",
       "      <th>commodity</th>\n",
       "      <th></th>\n",
       "    </tr>\n",
       "  </thead>\n",
       "  <tbody>\n",
       "    <tr>\n",
       "      <th>Direct_Reduced_Iron</th>\n",
       "      <td>220</td>\n",
       "    </tr>\n",
       "    <tr>\n",
       "      <th>EAF_Dust</th>\n",
       "      <td>-120</td>\n",
       "    </tr>\n",
       "    <tr>\n",
       "      <th>Internal_Low_Alloyed</th>\n",
       "      <td>240</td>\n",
       "    </tr>\n",
       "    <tr>\n",
       "      <th>No1_Bundles</th>\n",
       "      <td>180</td>\n",
       "    </tr>\n",
       "    <tr>\n",
       "      <th>No1_Heavy</th>\n",
       "      <td>160</td>\n",
       "    </tr>\n",
       "    <tr>\n",
       "      <th>No2_Bundles</th>\n",
       "      <td>170</td>\n",
       "    </tr>\n",
       "    <tr>\n",
       "      <th>No2_Heavy</th>\n",
       "      <td>140</td>\n",
       "    </tr>\n",
       "    <tr>\n",
       "      <th>Plate_And_Structural</th>\n",
       "      <td>290</td>\n",
       "    </tr>\n",
       "    <tr>\n",
       "      <th>Shredded</th>\n",
       "      <td>200</td>\n",
       "    </tr>\n",
       "    <tr>\n",
       "      <th>Turnings</th>\n",
       "      <td>110</td>\n",
       "    </tr>\n",
       "  </tbody>\n",
       "</table>\n",
       "</div>"
      ],
      "text/plain": [
       "                      price\n",
       "commodity                  \n",
       "Direct_Reduced_Iron     220\n",
       "EAF_Dust               -120\n",
       "Internal_Low_Alloyed    240\n",
       "No1_Bundles             180\n",
       "No1_Heavy               160\n",
       "No2_Bundles             170\n",
       "No2_Heavy               140\n",
       "Plate_And_Structural    290\n",
       "Shredded                200\n",
       "Turnings                110"
      ]
     },
     "execution_count": 501,
     "metadata": {},
     "output_type": "execute_result"
    }
   ],
   "source": [
    "sol1"
   ]
  },
  {
   "cell_type": "code",
   "execution_count": 502,
   "metadata": {},
   "outputs": [],
   "source": [
    "sol1['weights']= res.x"
   ]
  },
  {
   "cell_type": "code",
   "execution_count": 503,
   "metadata": {},
   "outputs": [
    {
     "data": {
      "text/plain": [
       "100.00000002486016"
      ]
     },
     "execution_count": 503,
     "metadata": {},
     "output_type": "execute_result"
    }
   ],
   "source": [
    "sum(res.x)"
   ]
  },
  {
   "cell_type": "code",
   "execution_count": 504,
   "metadata": {},
   "outputs": [
    {
     "data": {
      "text/plain": [
       "(10,)"
      ]
     },
     "execution_count": 504,
     "metadata": {},
     "output_type": "execute_result"
    }
   ],
   "source": [
    "res.x.shape"
   ]
  },
  {
   "cell_type": "code",
   "execution_count": 505,
   "metadata": {},
   "outputs": [
    {
     "data": {
      "text/html": [
       "<div>\n",
       "<style scoped>\n",
       "    .dataframe tbody tr th:only-of-type {\n",
       "        vertical-align: middle;\n",
       "    }\n",
       "\n",
       "    .dataframe tbody tr th {\n",
       "        vertical-align: top;\n",
       "    }\n",
       "\n",
       "    .dataframe thead th {\n",
       "        text-align: right;\n",
       "    }\n",
       "</style>\n",
       "<table border=\"1\" class=\"dataframe\">\n",
       "  <thead>\n",
       "    <tr style=\"text-align: right;\">\n",
       "      <th></th>\n",
       "      <th>price</th>\n",
       "      <th>weights</th>\n",
       "    </tr>\n",
       "    <tr>\n",
       "      <th>commodity</th>\n",
       "      <th></th>\n",
       "      <th></th>\n",
       "    </tr>\n",
       "  </thead>\n",
       "  <tbody>\n",
       "    <tr>\n",
       "      <th>Direct_Reduced_Iron</th>\n",
       "      <td>220</td>\n",
       "      <td>1.99</td>\n",
       "    </tr>\n",
       "    <tr>\n",
       "      <th>EAF_Dust</th>\n",
       "      <td>-120</td>\n",
       "      <td>9.91</td>\n",
       "    </tr>\n",
       "    <tr>\n",
       "      <th>Internal_Low_Alloyed</th>\n",
       "      <td>240</td>\n",
       "      <td>0.00</td>\n",
       "    </tr>\n",
       "    <tr>\n",
       "      <th>No1_Bundles</th>\n",
       "      <td>180</td>\n",
       "      <td>0.00</td>\n",
       "    </tr>\n",
       "    <tr>\n",
       "      <th>No1_Heavy</th>\n",
       "      <td>160</td>\n",
       "      <td>0.00</td>\n",
       "    </tr>\n",
       "    <tr>\n",
       "      <th>No2_Bundles</th>\n",
       "      <td>170</td>\n",
       "      <td>33.35</td>\n",
       "    </tr>\n",
       "    <tr>\n",
       "      <th>No2_Heavy</th>\n",
       "      <td>140</td>\n",
       "      <td>30.64</td>\n",
       "    </tr>\n",
       "    <tr>\n",
       "      <th>Plate_And_Structural</th>\n",
       "      <td>290</td>\n",
       "      <td>11.90</td>\n",
       "    </tr>\n",
       "    <tr>\n",
       "      <th>Shredded</th>\n",
       "      <td>200</td>\n",
       "      <td>0.00</td>\n",
       "    </tr>\n",
       "    <tr>\n",
       "      <th>Turnings</th>\n",
       "      <td>110</td>\n",
       "      <td>12.20</td>\n",
       "    </tr>\n",
       "  </tbody>\n",
       "</table>\n",
       "</div>"
      ],
      "text/plain": [
       "                      price  weights\n",
       "commodity                           \n",
       "Direct_Reduced_Iron     220     1.99\n",
       "EAF_Dust               -120     9.91\n",
       "Internal_Low_Alloyed    240     0.00\n",
       "No1_Bundles             180     0.00\n",
       "No1_Heavy               160     0.00\n",
       "No2_Bundles             170    33.35\n",
       "No2_Heavy               140    30.64\n",
       "Plate_And_Structural    290    11.90\n",
       "Shredded                200     0.00\n",
       "Turnings                110    12.20"
      ]
     },
     "execution_count": 505,
     "metadata": {},
     "output_type": "execute_result"
    }
   ],
   "source": [
    "round(sol1,2)"
   ]
  },
  {
   "cell_type": "code",
   "execution_count": 506,
   "metadata": {},
   "outputs": [],
   "source": [
    "heat_chem = A.dot(sol1.weights)"
   ]
  },
  {
   "cell_type": "code",
   "execution_count": 507,
   "metadata": {},
   "outputs": [],
   "source": [
    "results1 = pd.DataFrame({'lb':lb, 'ub':ub, 'r1':heat_chem})"
   ]
  },
  {
   "cell_type": "code",
   "execution_count": 508,
   "metadata": {},
   "outputs": [],
   "source": [
    "results1['compliant'] = results1.apply(lambda r: r['r1'] >= r['lb'] and r['r1'] <= r['ub'], axis=1)"
   ]
  },
  {
   "cell_type": "code",
   "execution_count": 509,
   "metadata": {},
   "outputs": [
    {
     "data": {
      "text/html": [
       "<div>\n",
       "<style scoped>\n",
       "    .dataframe tbody tr th:only-of-type {\n",
       "        vertical-align: middle;\n",
       "    }\n",
       "\n",
       "    .dataframe tbody tr th {\n",
       "        vertical-align: top;\n",
       "    }\n",
       "\n",
       "    .dataframe thead th {\n",
       "        text-align: right;\n",
       "    }\n",
       "</style>\n",
       "<table border=\"1\" class=\"dataframe\">\n",
       "  <thead>\n",
       "    <tr style=\"text-align: right;\">\n",
       "      <th></th>\n",
       "      <th>lb</th>\n",
       "      <th>ub</th>\n",
       "      <th>r1</th>\n",
       "      <th>compliant</th>\n",
       "    </tr>\n",
       "  </thead>\n",
       "  <tbody>\n",
       "    <tr>\n",
       "      <th>C</th>\n",
       "      <td>10.0</td>\n",
       "      <td>12.0</td>\n",
       "      <td>10.000000</td>\n",
       "      <td>False</td>\n",
       "    </tr>\n",
       "    <tr>\n",
       "      <th>Ca</th>\n",
       "      <td>0.0</td>\n",
       "      <td>9999999.0</td>\n",
       "      <td>1.387161</td>\n",
       "      <td>True</td>\n",
       "    </tr>\n",
       "    <tr>\n",
       "      <th>Ce</th>\n",
       "      <td>0.0</td>\n",
       "      <td>9999999.0</td>\n",
       "      <td>0.000000</td>\n",
       "      <td>True</td>\n",
       "    </tr>\n",
       "    <tr>\n",
       "      <th>Cr</th>\n",
       "      <td>0.0</td>\n",
       "      <td>10.0</td>\n",
       "      <td>217.801245</td>\n",
       "      <td>False</td>\n",
       "    </tr>\n",
       "    <tr>\n",
       "      <th>Cu</th>\n",
       "      <td>0.0</td>\n",
       "      <td>15.0</td>\n",
       "      <td>6.116022</td>\n",
       "      <td>True</td>\n",
       "    </tr>\n",
       "    <tr>\n",
       "      <th>Mn</th>\n",
       "      <td>100.0</td>\n",
       "      <td>150.0</td>\n",
       "      <td>59.900001</td>\n",
       "      <td>False</td>\n",
       "    </tr>\n",
       "    <tr>\n",
       "      <th>Mo</th>\n",
       "      <td>0.0</td>\n",
       "      <td>4.0</td>\n",
       "      <td>8.080000</td>\n",
       "      <td>False</td>\n",
       "    </tr>\n",
       "    <tr>\n",
       "      <th>N</th>\n",
       "      <td>0.0</td>\n",
       "      <td>0.5</td>\n",
       "      <td>0.000000</td>\n",
       "      <td>True</td>\n",
       "    </tr>\n",
       "    <tr>\n",
       "      <th>Nb</th>\n",
       "      <td>0.0</td>\n",
       "      <td>5.0</td>\n",
       "      <td>0.059630</td>\n",
       "      <td>True</td>\n",
       "    </tr>\n",
       "    <tr>\n",
       "      <th>Ni</th>\n",
       "      <td>0.0</td>\n",
       "      <td>15.0</td>\n",
       "      <td>118.941331</td>\n",
       "      <td>False</td>\n",
       "    </tr>\n",
       "    <tr>\n",
       "      <th>P</th>\n",
       "      <td>0.0</td>\n",
       "      <td>2.0</td>\n",
       "      <td>2.242273</td>\n",
       "      <td>False</td>\n",
       "    </tr>\n",
       "    <tr>\n",
       "      <th>Pb</th>\n",
       "      <td>0.0</td>\n",
       "      <td>9999999.0</td>\n",
       "      <td>1.915949</td>\n",
       "      <td>True</td>\n",
       "    </tr>\n",
       "    <tr>\n",
       "      <th>S</th>\n",
       "      <td>0.0</td>\n",
       "      <td>3.0</td>\n",
       "      <td>2.979010</td>\n",
       "      <td>True</td>\n",
       "    </tr>\n",
       "    <tr>\n",
       "      <th>Si</th>\n",
       "      <td>10.0</td>\n",
       "      <td>30.0</td>\n",
       "      <td>13.200534</td>\n",
       "      <td>True</td>\n",
       "    </tr>\n",
       "    <tr>\n",
       "      <th>Sn</th>\n",
       "      <td>0.0</td>\n",
       "      <td>9999999.0</td>\n",
       "      <td>3.109337</td>\n",
       "      <td>True</td>\n",
       "    </tr>\n",
       "    <tr>\n",
       "      <th>Ti</th>\n",
       "      <td>0.0</td>\n",
       "      <td>1.0</td>\n",
       "      <td>0.102831</td>\n",
       "      <td>True</td>\n",
       "    </tr>\n",
       "    <tr>\n",
       "      <th>V</th>\n",
       "      <td>0.0</td>\n",
       "      <td>9999999.0</td>\n",
       "      <td>0.039753</td>\n",
       "      <td>True</td>\n",
       "    </tr>\n",
       "    <tr>\n",
       "      <th>W</th>\n",
       "      <td>0.0</td>\n",
       "      <td>9999999.0</td>\n",
       "      <td>0.000000</td>\n",
       "      <td>True</td>\n",
       "    </tr>\n",
       "  </tbody>\n",
       "</table>\n",
       "</div>"
      ],
      "text/plain": [
       "       lb         ub          r1  compliant\n",
       "C    10.0       12.0   10.000000      False\n",
       "Ca    0.0  9999999.0    1.387161       True\n",
       "Ce    0.0  9999999.0    0.000000       True\n",
       "Cr    0.0       10.0  217.801245      False\n",
       "Cu    0.0       15.0    6.116022       True\n",
       "Mn  100.0      150.0   59.900001      False\n",
       "Mo    0.0        4.0    8.080000      False\n",
       "N     0.0        0.5    0.000000       True\n",
       "Nb    0.0        5.0    0.059630       True\n",
       "Ni    0.0       15.0  118.941331      False\n",
       "P     0.0        2.0    2.242273      False\n",
       "Pb    0.0  9999999.0    1.915949       True\n",
       "S     0.0        3.0    2.979010       True\n",
       "Si   10.0       30.0   13.200534       True\n",
       "Sn    0.0  9999999.0    3.109337       True\n",
       "Ti    0.0        1.0    0.102831       True\n",
       "V     0.0  9999999.0    0.039753       True\n",
       "W     0.0  9999999.0    0.000000       True"
      ]
     },
     "execution_count": 509,
     "metadata": {},
     "output_type": "execute_result"
    }
   ],
   "source": [
    "results1.sort_index()"
   ]
  },
  {
   "cell_type": "code",
   "execution_count": 279,
   "metadata": {},
   "outputs": [
    {
     "data": {
      "text/html": [
       "<div>\n",
       "<style scoped>\n",
       "    .dataframe tbody tr th:only-of-type {\n",
       "        vertical-align: middle;\n",
       "    }\n",
       "\n",
       "    .dataframe tbody tr th {\n",
       "        vertical-align: top;\n",
       "    }\n",
       "\n",
       "    .dataframe thead th {\n",
       "        text-align: right;\n",
       "    }\n",
       "</style>\n",
       "<table border=\"1\" class=\"dataframe\">\n",
       "  <thead>\n",
       "    <tr style=\"text-align: right;\">\n",
       "      <th></th>\n",
       "      <th>Direct_Reduced_Iron</th>\n",
       "      <th>EAF_Dust</th>\n",
       "      <th>Internal_Low_Alloyed</th>\n",
       "      <th>No1_Bundles</th>\n",
       "      <th>No1_Heavy</th>\n",
       "      <th>No2_Bundles</th>\n",
       "      <th>No2_Heavy</th>\n",
       "      <th>Plate_And_Structural</th>\n",
       "      <th>Shredded</th>\n",
       "      <th>Turnings</th>\n",
       "    </tr>\n",
       "  </thead>\n",
       "  <tbody>\n",
       "    <tr>\n",
       "      <th>C</th>\n",
       "      <td>2.40</td>\n",
       "      <td>0.0000</td>\n",
       "      <td>0.1700</td>\n",
       "      <td>0.027</td>\n",
       "      <td>0.025</td>\n",
       "      <td>0.040</td>\n",
       "      <td>0.030</td>\n",
       "      <td>0.250</td>\n",
       "      <td>0.030</td>\n",
       "      <td>0.000</td>\n",
       "    </tr>\n",
       "    <tr>\n",
       "      <th>Ca</th>\n",
       "      <td>0.00</td>\n",
       "      <td>0.1400</td>\n",
       "      <td>0.0000</td>\n",
       "      <td>0.000</td>\n",
       "      <td>0.000</td>\n",
       "      <td>0.000</td>\n",
       "      <td>0.000</td>\n",
       "      <td>0.000</td>\n",
       "      <td>0.000</td>\n",
       "      <td>0.000</td>\n",
       "    </tr>\n",
       "    <tr>\n",
       "      <th>Ce</th>\n",
       "      <td>0.00</td>\n",
       "      <td>0.0000</td>\n",
       "      <td>0.0030</td>\n",
       "      <td>0.000</td>\n",
       "      <td>0.000</td>\n",
       "      <td>0.000</td>\n",
       "      <td>0.000</td>\n",
       "      <td>0.000</td>\n",
       "      <td>0.000</td>\n",
       "      <td>0.000</td>\n",
       "    </tr>\n",
       "    <tr>\n",
       "      <th>Cr</th>\n",
       "      <td>0.00</td>\n",
       "      <td>0.2003</td>\n",
       "      <td>0.2600</td>\n",
       "      <td>0.032</td>\n",
       "      <td>0.200</td>\n",
       "      <td>0.032</td>\n",
       "      <td>0.260</td>\n",
       "      <td>0.150</td>\n",
       "      <td>0.120</td>\n",
       "      <td>0.698</td>\n",
       "    </tr>\n",
       "    <tr>\n",
       "      <th>Cu</th>\n",
       "      <td>0.00</td>\n",
       "      <td>0.0000</td>\n",
       "      <td>0.0200</td>\n",
       "      <td>0.018</td>\n",
       "      <td>0.180</td>\n",
       "      <td>0.018</td>\n",
       "      <td>0.180</td>\n",
       "      <td>0.000</td>\n",
       "      <td>0.160</td>\n",
       "      <td>0.000</td>\n",
       "    </tr>\n",
       "    <tr>\n",
       "      <th>Mn</th>\n",
       "      <td>0.00</td>\n",
       "      <td>0.0444</td>\n",
       "      <td>0.3100</td>\n",
       "      <td>0.120</td>\n",
       "      <td>0.000</td>\n",
       "      <td>0.120</td>\n",
       "      <td>0.000</td>\n",
       "      <td>1.000</td>\n",
       "      <td>0.000</td>\n",
       "      <td>0.000</td>\n",
       "    </tr>\n",
       "    <tr>\n",
       "      <th>Mo</th>\n",
       "      <td>0.00</td>\n",
       "      <td>0.0000</td>\n",
       "      <td>0.1400</td>\n",
       "      <td>0.000</td>\n",
       "      <td>0.030</td>\n",
       "      <td>0.000</td>\n",
       "      <td>0.030</td>\n",
       "      <td>0.050</td>\n",
       "      <td>0.020</td>\n",
       "      <td>0.538</td>\n",
       "    </tr>\n",
       "    <tr>\n",
       "      <th>N</th>\n",
       "      <td>0.00</td>\n",
       "      <td>0.0000</td>\n",
       "      <td>0.0000</td>\n",
       "      <td>0.000</td>\n",
       "      <td>0.000</td>\n",
       "      <td>0.000</td>\n",
       "      <td>0.000</td>\n",
       "      <td>0.000</td>\n",
       "      <td>0.000</td>\n",
       "      <td>0.000</td>\n",
       "    </tr>\n",
       "    <tr>\n",
       "      <th>Nb</th>\n",
       "      <td>0.03</td>\n",
       "      <td>0.0000</td>\n",
       "      <td>0.0010</td>\n",
       "      <td>0.000</td>\n",
       "      <td>0.000</td>\n",
       "      <td>0.000</td>\n",
       "      <td>0.000</td>\n",
       "      <td>0.000</td>\n",
       "      <td>0.000</td>\n",
       "      <td>0.000</td>\n",
       "    </tr>\n",
       "    <tr>\n",
       "      <th>Ni</th>\n",
       "      <td>0.00</td>\n",
       "      <td>0.1120</td>\n",
       "      <td>0.4000</td>\n",
       "      <td>0.020</td>\n",
       "      <td>0.150</td>\n",
       "      <td>0.020</td>\n",
       "      <td>0.180</td>\n",
       "      <td>0.150</td>\n",
       "      <td>0.100</td>\n",
       "      <td>0.000</td>\n",
       "    </tr>\n",
       "    <tr>\n",
       "      <th>P</th>\n",
       "      <td>0.10</td>\n",
       "      <td>0.0190</td>\n",
       "      <td>0.0130</td>\n",
       "      <td>0.010</td>\n",
       "      <td>0.025</td>\n",
       "      <td>0.010</td>\n",
       "      <td>0.028</td>\n",
       "      <td>0.025</td>\n",
       "      <td>0.020</td>\n",
       "      <td>0.030</td>\n",
       "    </tr>\n",
       "    <tr>\n",
       "      <th>Pb</th>\n",
       "      <td>0.00</td>\n",
       "      <td>0.0000</td>\n",
       "      <td>0.0000</td>\n",
       "      <td>0.000</td>\n",
       "      <td>0.000</td>\n",
       "      <td>0.000</td>\n",
       "      <td>0.000</td>\n",
       "      <td>0.000</td>\n",
       "      <td>0.000</td>\n",
       "      <td>0.157</td>\n",
       "    </tr>\n",
       "    <tr>\n",
       "      <th>S</th>\n",
       "      <td>0.01</td>\n",
       "      <td>0.0010</td>\n",
       "      <td>0.0014</td>\n",
       "      <td>0.006</td>\n",
       "      <td>0.033</td>\n",
       "      <td>0.006</td>\n",
       "      <td>0.035</td>\n",
       "      <td>0.025</td>\n",
       "      <td>0.030</td>\n",
       "      <td>0.113</td>\n",
       "    </tr>\n",
       "    <tr>\n",
       "      <th>Si</th>\n",
       "      <td>0.00</td>\n",
       "      <td>0.9100</td>\n",
       "      <td>0.0400</td>\n",
       "      <td>0.012</td>\n",
       "      <td>0.017</td>\n",
       "      <td>0.016</td>\n",
       "      <td>0.022</td>\n",
       "      <td>0.250</td>\n",
       "      <td>0.015</td>\n",
       "      <td>0.000</td>\n",
       "    </tr>\n",
       "    <tr>\n",
       "      <th>Sn</th>\n",
       "      <td>0.00</td>\n",
       "      <td>0.0000</td>\n",
       "      <td>0.0010</td>\n",
       "      <td>0.000</td>\n",
       "      <td>0.014</td>\n",
       "      <td>0.000</td>\n",
       "      <td>0.016</td>\n",
       "      <td>0.220</td>\n",
       "      <td>0.013</td>\n",
       "      <td>0.000</td>\n",
       "    </tr>\n",
       "    <tr>\n",
       "      <th>Ti</th>\n",
       "      <td>0.02</td>\n",
       "      <td>0.0030</td>\n",
       "      <td>0.0150</td>\n",
       "      <td>0.001</td>\n",
       "      <td>0.000</td>\n",
       "      <td>0.001</td>\n",
       "      <td>0.000</td>\n",
       "      <td>0.000</td>\n",
       "      <td>0.000</td>\n",
       "      <td>0.000</td>\n",
       "    </tr>\n",
       "    <tr>\n",
       "      <th>V</th>\n",
       "      <td>0.02</td>\n",
       "      <td>0.0000</td>\n",
       "      <td>0.0050</td>\n",
       "      <td>0.000</td>\n",
       "      <td>0.000</td>\n",
       "      <td>0.000</td>\n",
       "      <td>0.000</td>\n",
       "      <td>0.000</td>\n",
       "      <td>0.000</td>\n",
       "      <td>0.000</td>\n",
       "    </tr>\n",
       "    <tr>\n",
       "      <th>W</th>\n",
       "      <td>0.00</td>\n",
       "      <td>0.0000</td>\n",
       "      <td>0.0090</td>\n",
       "      <td>0.000</td>\n",
       "      <td>0.000</td>\n",
       "      <td>0.000</td>\n",
       "      <td>0.000</td>\n",
       "      <td>0.000</td>\n",
       "      <td>0.000</td>\n",
       "      <td>0.000</td>\n",
       "    </tr>\n",
       "  </tbody>\n",
       "</table>\n",
       "</div>"
      ],
      "text/plain": [
       "    Direct_Reduced_Iron  EAF_Dust  Internal_Low_Alloyed  No1_Bundles  \\\n",
       "C                  2.40    0.0000                0.1700        0.027   \n",
       "Ca                 0.00    0.1400                0.0000        0.000   \n",
       "Ce                 0.00    0.0000                0.0030        0.000   \n",
       "Cr                 0.00    0.2003                0.2600        0.032   \n",
       "Cu                 0.00    0.0000                0.0200        0.018   \n",
       "Mn                 0.00    0.0444                0.3100        0.120   \n",
       "Mo                 0.00    0.0000                0.1400        0.000   \n",
       "N                  0.00    0.0000                0.0000        0.000   \n",
       "Nb                 0.03    0.0000                0.0010        0.000   \n",
       "Ni                 0.00    0.1120                0.4000        0.020   \n",
       "P                  0.10    0.0190                0.0130        0.010   \n",
       "Pb                 0.00    0.0000                0.0000        0.000   \n",
       "S                  0.01    0.0010                0.0014        0.006   \n",
       "Si                 0.00    0.9100                0.0400        0.012   \n",
       "Sn                 0.00    0.0000                0.0010        0.000   \n",
       "Ti                 0.02    0.0030                0.0150        0.001   \n",
       "V                  0.02    0.0000                0.0050        0.000   \n",
       "W                  0.00    0.0000                0.0090        0.000   \n",
       "\n",
       "    No1_Heavy  No2_Bundles  No2_Heavy  Plate_And_Structural  Shredded  \\\n",
       "C       0.025        0.040      0.030                 0.250     0.030   \n",
       "Ca      0.000        0.000      0.000                 0.000     0.000   \n",
       "Ce      0.000        0.000      0.000                 0.000     0.000   \n",
       "Cr      0.200        0.032      0.260                 0.150     0.120   \n",
       "Cu      0.180        0.018      0.180                 0.000     0.160   \n",
       "Mn      0.000        0.120      0.000                 1.000     0.000   \n",
       "Mo      0.030        0.000      0.030                 0.050     0.020   \n",
       "N       0.000        0.000      0.000                 0.000     0.000   \n",
       "Nb      0.000        0.000      0.000                 0.000     0.000   \n",
       "Ni      0.150        0.020      0.180                 0.150     0.100   \n",
       "P       0.025        0.010      0.028                 0.025     0.020   \n",
       "Pb      0.000        0.000      0.000                 0.000     0.000   \n",
       "S       0.033        0.006      0.035                 0.025     0.030   \n",
       "Si      0.017        0.016      0.022                 0.250     0.015   \n",
       "Sn      0.014        0.000      0.016                 0.220     0.013   \n",
       "Ti      0.000        0.001      0.000                 0.000     0.000   \n",
       "V       0.000        0.000      0.000                 0.000     0.000   \n",
       "W       0.000        0.000      0.000                 0.000     0.000   \n",
       "\n",
       "    Turnings  \n",
       "C      0.000  \n",
       "Ca     0.000  \n",
       "Ce     0.000  \n",
       "Cr     0.698  \n",
       "Cu     0.000  \n",
       "Mn     0.000  \n",
       "Mo     0.538  \n",
       "N      0.000  \n",
       "Nb     0.000  \n",
       "Ni     0.000  \n",
       "P      0.030  \n",
       "Pb     0.157  \n",
       "S      0.113  \n",
       "Si     0.000  \n",
       "Sn     0.000  \n",
       "Ti     0.000  \n",
       "V      0.000  \n",
       "W      0.000  "
      ]
     },
     "execution_count": 279,
     "metadata": {},
     "output_type": "execute_result"
    }
   ],
   "source": [
    "A"
   ]
  },
  {
   "cell_type": "code",
   "execution_count": 123,
   "metadata": {},
   "outputs": [
    {
     "data": {
      "text/plain": [
       "14003.066857167223"
      ]
     },
     "execution_count": 123,
     "metadata": {},
     "output_type": "execute_result"
    }
   ],
   "source": [
    "res.fun"
   ]
  },
  {
   "cell_type": "code",
   "execution_count": 133,
   "metadata": {},
   "outputs": [
    {
     "data": {
      "text/plain": [
       "14003.066857167223"
      ]
     },
     "execution_count": 133,
     "metadata": {},
     "output_type": "execute_result"
    }
   ],
   "source": [
    "COSTS.price.dot(res.x)"
   ]
  },
  {
   "cell_type": "code",
   "execution_count": 134,
   "metadata": {},
   "outputs": [
    {
     "data": {
      "text/html": [
       "<div>\n",
       "<style scoped>\n",
       "    .dataframe tbody tr th:only-of-type {\n",
       "        vertical-align: middle;\n",
       "    }\n",
       "\n",
       "    .dataframe tbody tr th {\n",
       "        vertical-align: top;\n",
       "    }\n",
       "\n",
       "    .dataframe thead th {\n",
       "        text-align: right;\n",
       "    }\n",
       "</style>\n",
       "<table border=\"1\" class=\"dataframe\">\n",
       "  <thead>\n",
       "    <tr style=\"text-align: right;\">\n",
       "      <th></th>\n",
       "      <th>Direct_Reduced_Iron</th>\n",
       "      <th>EAF_Dust</th>\n",
       "      <th>Internal_Low_Alloyed</th>\n",
       "      <th>No1_Bundles</th>\n",
       "      <th>No1_Heavy</th>\n",
       "      <th>No2_Bundles</th>\n",
       "      <th>No2_Heavy</th>\n",
       "      <th>Plate_And_Structural</th>\n",
       "      <th>Shredded</th>\n",
       "      <th>Turnings</th>\n",
       "    </tr>\n",
       "  </thead>\n",
       "  <tbody>\n",
       "  </tbody>\n",
       "</table>\n",
       "</div>"
      ],
      "text/plain": [
       "Empty DataFrame\n",
       "Columns: [Direct_Reduced_Iron, EAF_Dust, Internal_Low_Alloyed, No1_Bundles, No1_Heavy, No2_Bundles, No2_Heavy, Plate_And_Structural, Shredded, Turnings]\n",
       "Index: []"
      ]
     },
     "execution_count": 134,
     "metadata": {},
     "output_type": "execute_result"
    }
   ],
   "source": [
    "A[0:0]"
   ]
  },
  {
   "cell_type": "code",
   "execution_count": 136,
   "metadata": {},
   "outputs": [],
   "source": [
    "b2_lb = np.array([0]*10)\n",
    "b2_ub = np.array([TOTAL_WEIGHT]*10)\n",
    "b2_ub[1] = 0 # We don't have any EAF dust\n",
    "b2 = scipy.optimize.Bounds(lb=b2_lb, ub=b2_ub)"
   ]
  },
  {
   "cell_type": "code",
   "execution_count": 137,
   "metadata": {},
   "outputs": [
    {
     "data": {
      "text/plain": [
       "Bounds(array([0, 0, 0, 0, 0, 0, 0, 0, 0, 0]), array([100,   0, 100, 100, 100, 100, 100, 100, 100, 100]))"
      ]
     },
     "execution_count": 137,
     "metadata": {},
     "output_type": "execute_result"
    }
   ],
   "source": [
    "b2"
   ]
  },
  {
   "cell_type": "code",
   "execution_count": 186,
   "metadata": {},
   "outputs": [
    {
     "name": "stdout",
     "output_type": "stream",
     "text": [
      "xk:  [ 2.1621013   0.          0.         14.85001163  5.11871154 25.06845015\n",
      " 20.06182066 10.70978459  0.         12.02912014]\n",
      "xk:  [ 2.13159726  0.          0.          9.46921011  0.         31.890109\n",
      " 23.95577034 10.5368817   0.         12.01643158]\n",
      "xk:  [2.05315069e+00 0.00000000e+00 9.23689880e-09 0.00000000e+00\n",
      " 4.12034647e-09 3.93851286e+01 2.67862357e+01 1.07737846e+01\n",
      " 7.20640891e-09 1.10017005e+01]\n",
      "xk:  [ 2.05315068  0.          0.          0.          0.         39.3851286\n",
      " 26.7862357  10.77378457  0.         11.00170046]\n",
      "xk:  [ 2.05315068  0.          0.          0.          0.         39.3851286\n",
      " 26.7862357  10.77378457  0.         11.00170046]\n"
     ]
    }
   ],
   "source": [
    "res2 = scipy.optimize.minimize(fun=f1, args=(COSTS,), x0=x, method='SLSQP', # method='trust-constr', \n",
    "                              jac=f1p,\n",
    "                              constraints=[constraint1, constraint2],\n",
    "                             bounds=b2, callback=cb2)"
   ]
  },
  {
   "cell_type": "code",
   "execution_count": 187,
   "metadata": {},
   "outputs": [
    {
     "name": "stdout",
     "output_type": "stream",
     "text": [
      "15231.822587144256\n",
      "[ 2.05315068  0.          0.          0.          0.         39.3851286\n",
      " 26.7862357  10.77378457  0.         11.00170046]\n"
     ]
    }
   ],
   "source": [
    "print(res2.fun)\n",
    "print(res2.x)"
   ]
  },
  {
   "cell_type": "code",
   "execution_count": 144,
   "metadata": {},
   "outputs": [
    {
     "name": "stdout",
     "output_type": "stream",
     "text": [
      "14003.066857167223\n",
      "[ 1.98766493  9.90829305  0.          0.          0.         33.35315773\n",
      " 30.64258478 11.90480059  0.         12.20349895]\n"
     ]
    }
   ],
   "source": [
    "print(res.fun)\n",
    "print(res.x)"
   ]
  },
  {
   "cell_type": "code",
   "execution_count": 145,
   "metadata": {},
   "outputs": [
    {
     "data": {
      "text/plain": [
       "0.08774904401374871"
      ]
     },
     "execution_count": 145,
     "metadata": {},
     "output_type": "execute_result"
    }
   ],
   "source": [
    "(res2.fun - res.fun)/res.fun"
   ]
  },
  {
   "cell_type": "code",
   "execution_count": 151,
   "metadata": {},
   "outputs": [],
   "source": [
    "# Just not having 1 commodity (EAF Dust) results in a 8.7% increase in cost!\n",
    "# The recipes are actually fairly similar, but cost is a lot more.\n",
    "\n",
    "# Well thats because there is -ve cost for EAF Dust :)"
   ]
  },
  {
   "cell_type": "code",
   "execution_count": 156,
   "metadata": {},
   "outputs": [],
   "source": [
    "COSTS2 = COSTS.copy()"
   ]
  },
  {
   "cell_type": "code",
   "execution_count": 162,
   "metadata": {
    "scrolled": true
   },
   "outputs": [
    {
     "data": {
      "text/plain": [
       "pandas.core.frame.DataFrame"
      ]
     },
     "execution_count": 162,
     "metadata": {},
     "output_type": "execute_result"
    }
   ],
   "source": [
    "type(COSTS2)"
   ]
  },
  {
   "cell_type": "code",
   "execution_count": 177,
   "metadata": {},
   "outputs": [],
   "source": [
    "COSTS2.at['EAF_Dust', 'price'] = 0"
   ]
  },
  {
   "cell_type": "code",
   "execution_count": 178,
   "metadata": {},
   "outputs": [
    {
     "data": {
      "text/html": [
       "<div>\n",
       "<style scoped>\n",
       "    .dataframe tbody tr th:only-of-type {\n",
       "        vertical-align: middle;\n",
       "    }\n",
       "\n",
       "    .dataframe tbody tr th {\n",
       "        vertical-align: top;\n",
       "    }\n",
       "\n",
       "    .dataframe thead th {\n",
       "        text-align: right;\n",
       "    }\n",
       "</style>\n",
       "<table border=\"1\" class=\"dataframe\">\n",
       "  <thead>\n",
       "    <tr style=\"text-align: right;\">\n",
       "      <th></th>\n",
       "      <th>price</th>\n",
       "    </tr>\n",
       "    <tr>\n",
       "      <th>commodity</th>\n",
       "      <th></th>\n",
       "    </tr>\n",
       "  </thead>\n",
       "  <tbody>\n",
       "    <tr>\n",
       "      <th>Direct_Reduced_Iron</th>\n",
       "      <td>220.0</td>\n",
       "    </tr>\n",
       "    <tr>\n",
       "      <th>EAF_Dust</th>\n",
       "      <td>0.0</td>\n",
       "    </tr>\n",
       "    <tr>\n",
       "      <th>Internal_Low_Alloyed</th>\n",
       "      <td>240.0</td>\n",
       "    </tr>\n",
       "    <tr>\n",
       "      <th>No1_Bundles</th>\n",
       "      <td>180.0</td>\n",
       "    </tr>\n",
       "    <tr>\n",
       "      <th>No1_Heavy</th>\n",
       "      <td>160.0</td>\n",
       "    </tr>\n",
       "    <tr>\n",
       "      <th>No2_Bundles</th>\n",
       "      <td>170.0</td>\n",
       "    </tr>\n",
       "    <tr>\n",
       "      <th>No2_Heavy</th>\n",
       "      <td>140.0</td>\n",
       "    </tr>\n",
       "    <tr>\n",
       "      <th>Plate_And_Structural</th>\n",
       "      <td>290.0</td>\n",
       "    </tr>\n",
       "    <tr>\n",
       "      <th>Shredded</th>\n",
       "      <td>200.0</td>\n",
       "    </tr>\n",
       "    <tr>\n",
       "      <th>Turnings</th>\n",
       "      <td>110.0</td>\n",
       "    </tr>\n",
       "  </tbody>\n",
       "</table>\n",
       "</div>"
      ],
      "text/plain": [
       "                      price\n",
       "commodity                  \n",
       "Direct_Reduced_Iron   220.0\n",
       "EAF_Dust                0.0\n",
       "Internal_Low_Alloyed  240.0\n",
       "No1_Bundles           180.0\n",
       "No1_Heavy             160.0\n",
       "No2_Bundles           170.0\n",
       "No2_Heavy             140.0\n",
       "Plate_And_Structural  290.0\n",
       "Shredded              200.0\n",
       "Turnings              110.0"
      ]
     },
     "execution_count": 178,
     "metadata": {},
     "output_type": "execute_result"
    }
   ],
   "source": [
    "COSTS2"
   ]
  },
  {
   "cell_type": "code",
   "execution_count": 175,
   "metadata": {},
   "outputs": [],
   "source": []
  },
  {
   "cell_type": "code",
   "execution_count": 188,
   "metadata": {},
   "outputs": [
    {
     "name": "stdout",
     "output_type": "stream",
     "text": [
      "xk:  [2.05288628e+00 9.91635055e+00 1.02730269e-10 1.07552725e+01\n",
      " 7.12581932e+00 2.10057320e+01 2.49761682e+01 1.20600830e+01\n",
      " 3.26547678e-11 1.21076881e+01]\n",
      "xk:  [2.00800398e+00 9.90431248e+00 6.29832370e-09 4.80387906e+00\n",
      " 4.56336302e-10 2.79897054e+01 3.11363967e+01 1.19896224e+01\n",
      " 4.86433174e-09 1.21680799e+01]\n",
      "xk:  [ 1.97976636  9.90206173  0.          0.          0.         32.67668362\n",
      " 31.26941437 12.01364387  0.         12.15843007]\n",
      "xk:  [ 1.97976636  9.90206173  0.          0.          0.         32.67668362\n",
      " 31.26941437 12.01364387  0.         12.15843007]\n"
     ]
    }
   ],
   "source": [
    "res = scipy.optimize.minimize(fun=f1, args=(COSTS2,), x0=x, method='SLSQP', # method='trust-constr', \n",
    "                              jac=f1p,\n",
    "                              constraints=[constraint1, constraint2],\n",
    "                             bounds=b1, callback=cb2)"
   ]
  },
  {
   "cell_type": "code",
   "execution_count": 189,
   "metadata": {},
   "outputs": [
    {
     "data": {
      "text/plain": [
       "array([ 1.97976636,  9.90206173,  0.        ,  0.        ,  0.        ,\n",
       "       32.67668362, 31.26941437, 12.01364387,  0.        , 12.15843007])"
      ]
     },
     "execution_count": 189,
     "metadata": {},
     "output_type": "execute_result"
    }
   ],
   "source": [
    "res.x"
   ]
  },
  {
   "cell_type": "code",
   "execution_count": 190,
   "metadata": {},
   "outputs": [
    {
     "data": {
      "text/plain": [
       "15189.686853261048"
      ]
     },
     "execution_count": 190,
     "metadata": {},
     "output_type": "execute_result"
    }
   ],
   "source": [
    "res.fun"
   ]
  },
  {
   "cell_type": "code",
   "execution_count": 191,
   "metadata": {
    "collapsed": true
   },
   "outputs": [
    {
     "name": "stdout",
     "output_type": "stream",
     "text": [
      "xk:  [2.16210131e+00 0.00000000e+00 4.55764315e-09 1.48500116e+01\n",
      " 5.11871154e+00 2.50684501e+01 2.00618207e+01 1.07097846e+01\n",
      " 1.42404311e-09 1.20291201e+01]\n",
      "xk:  [2.13159727e+00 0.00000000e+00 6.75974555e-09 9.46921012e+00\n",
      " 1.30200206e-09 3.18901090e+01 2.39557703e+01 1.05368817e+01\n",
      " 5.17095664e-09 1.20164316e+01]\n",
      "xk:  [2.05315069e+00 0.00000000e+00 1.26292727e-08 0.00000000e+00\n",
      " 5.14038599e-09 3.93851286e+01 2.67862357e+01 1.07737846e+01\n",
      " 9.65754002e-09 1.10017004e+01]\n",
      "xk:  [ 2.05315068  0.          0.          0.          0.         39.38512862\n",
      " 26.78623569 10.77378459  0.         11.00170045]\n",
      "xk:  [ 2.05315068  0.          0.          0.          0.         39.38512862\n",
      " 26.78623569 10.77378459  0.         11.00170045]\n"
     ]
    }
   ],
   "source": [
    "res2 = scipy.optimize.minimize(fun=f1, args=(COSTS2,), x0=x, method='SLSQP', # method='trust-constr', \n",
    "                              jac=f1p,\n",
    "                              constraints=[constraint1, constraint2],\n",
    "                             bounds=b2, callback=cb2)"
   ]
  },
  {
   "cell_type": "code",
   "execution_count": 192,
   "metadata": {},
   "outputs": [
    {
     "data": {
      "text/plain": [
       "15231.822593249908"
      ]
     },
     "execution_count": 192,
     "metadata": {},
     "output_type": "execute_result"
    }
   ],
   "source": [
    "res2.fun"
   ]
  },
  {
   "cell_type": "code",
   "execution_count": 193,
   "metadata": {},
   "outputs": [
    {
     "data": {
      "text/plain": [
       "array([ 2.05315068,  0.        ,  0.        ,  0.        ,  0.        ,\n",
       "       39.38512862, 26.78623569, 10.77378459,  0.        , 11.00170045])"
      ]
     },
     "execution_count": 193,
     "metadata": {},
     "output_type": "execute_result"
    }
   ],
   "source": [
    "res2.x"
   ]
  },
  {
   "cell_type": "code",
   "execution_count": null,
   "metadata": {},
   "outputs": [],
   "source": []
  }
 ],
 "metadata": {
  "kernelspec": {
   "display_name": "Python 3",
   "language": "python",
   "name": "python3"
  },
  "language_info": {
   "codemirror_mode": {
    "name": "ipython",
    "version": 3
   },
   "file_extension": ".py",
   "mimetype": "text/x-python",
   "name": "python",
   "nbconvert_exporter": "python",
   "pygments_lexer": "ipython3",
   "version": "3.7.6"
  }
 },
 "nbformat": 4,
 "nbformat_minor": 4
}
