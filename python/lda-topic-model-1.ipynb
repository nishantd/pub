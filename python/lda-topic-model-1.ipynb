{
 "cells": [
  {
   "cell_type": "code",
   "execution_count": 1,
   "metadata": {},
   "outputs": [],
   "source": [
    "import gensim\n",
    "from gensim.corpora import Dictionary\n",
    "from gensim import corpora, models"
   ]
  },
  {
   "cell_type": "code",
   "execution_count": 3,
   "metadata": {},
   "outputs": [],
   "source": [
    "docs = [\n",
    "    ['cat', 'dog', 'possum', 'wolf', 'rat'],  # topic 0\n",
    "    ['cat', 'possum', 'wolf', 'fox', 'rabbit', 'rat'],  # topic 0\n",
    "    ['tuna', 'whale', 'shark', 'salmon', 'stringray'],  # topic 1\n",
    "    ['tuna', 'shark', 'salmon', 'eel', 'stingray'],  # topic 1\n",
    "    ['pidgeon', 'hawk', 'sparrow', 'crow', 'parrot'],  # topic 2\n",
    "    ['pidgeon', 'crow', 'raven', 'parrot', 'eagle']   # topic 2\n",
    "]"
   ]
  },
  {
   "cell_type": "code",
   "execution_count": 4,
   "metadata": {},
   "outputs": [
    {
     "name": "stdout",
     "output_type": "stream",
     "text": [
      "(0, 'cat') (1, 'dog') (2, 'possum') (3, 'rat') (4, 'wolf') (5, 'fox') (6, 'rabbit') (7, 'salmon') (8, 'shark') (9, 'stringray') (10, 'tuna') (11, 'whale') (12, 'eel') (13, 'stingray') (14, 'crow') (15, 'hawk') (16, 'parrot') (17, 'pidgeon') (18, 'sparrow') (19, 'eagle') (20, 'raven')\n"
     ]
    }
   ],
   "source": [
    "dct = Dictionary(docs)\n",
    "print(' '.join('%s'%(i,) for i in dct.items()))"
   ]
  },
  {
   "cell_type": "code",
   "execution_count": 5,
   "metadata": {},
   "outputs": [
    {
     "data": {
      "text/plain": [
       "[[(0, 1), (1, 1), (2, 1), (3, 1), (4, 1)],\n",
       " [(0, 1), (2, 1), (3, 1), (4, 1), (5, 1), (6, 1)],\n",
       " [(7, 1), (8, 1), (9, 1), (10, 1), (11, 1)],\n",
       " [(7, 1), (8, 1), (10, 1), (12, 1), (13, 1)],\n",
       " [(14, 1), (15, 1), (16, 1), (17, 1), (18, 1)],\n",
       " [(14, 1), (16, 1), (17, 1), (19, 1), (20, 1)]]"
      ]
     },
     "execution_count": 5,
     "metadata": {},
     "output_type": "execute_result"
    }
   ],
   "source": [
    "docs_bow = [dct.doc2bow(doc) for doc in docs]\n",
    "docs_bow"
   ]
  },
  {
   "cell_type": "code",
   "execution_count": 6,
   "metadata": {},
   "outputs": [],
   "source": [
    "lda_model = gensim.models.LdaModel(docs_bow, num_topics=3, id2word=dct)"
   ]
  },
  {
   "cell_type": "code",
   "execution_count": 13,
   "metadata": {},
   "outputs": [
    {
     "name": "stdout",
     "output_type": "stream",
     "text": [
      "['cat', 'dog', 'possum', 'wolf', 'rat'] >>>>> [(0, 0.05577975), (1, 0.88824743), (2, 0.05597283)]\n",
      "['cat', 'possum', 'wolf', 'fox', 'rabbit', 'rat'] >>>>> [(0, 0.04783169), (1, 0.90415514), (2, 0.048013188)]\n",
      "['tuna', 'whale', 'shark', 'salmon', 'stringray'] >>>>> [(0, 0.05868661), (1, 0.05589025), (2, 0.8854231)]\n",
      "['tuna', 'shark', 'salmon', 'eel', 'stingray'] >>>>> [(0, 0.8647225), (1, 0.05618122), (2, 0.07909632)]\n",
      "['pidgeon', 'hawk', 'sparrow', 'crow', 'parrot'] >>>>> [(0, 0.8878725), (1, 0.055951286), (2, 0.05617614)]\n",
      "['pidgeon', 'crow', 'raven', 'parrot', 'eagle'] >>>>> [(0, 0.8878262), (1, 0.055959612), (2, 0.056214225)]\n"
     ]
    }
   ],
   "source": [
    "# Seems like all the documents are assigned to a single topic!\n",
    "for i, db in enumerate(docs_bow):\n",
    "    print(docs[i], '>>>>>', lda_model[db])"
   ]
  },
  {
   "cell_type": "code",
   "execution_count": 7,
   "metadata": {},
   "outputs": [
    {
     "data": {
      "text/plain": [
       "[(0,\n",
       "  '0.105*\"parrot\" + 0.104*\"crow\" + 0.104*\"pidgeon\" + 0.061*\"salmon\" + 0.061*\"shark\" + 0.060*\"tuna\" + 0.060*\"hawk\" + 0.060*\"stingray\" + 0.060*\"sparrow\" + 0.060*\"eel\"'),\n",
       " (1,\n",
       "  '0.127*\"cat\" + 0.127*\"possum\" + 0.127*\"wolf\" + 0.126*\"rat\" + 0.072*\"rabbit\" + 0.072*\"dog\" + 0.072*\"fox\" + 0.021*\"tuna\" + 0.020*\"salmon\" + 0.020*\"shark\"'),\n",
       " (2,\n",
       "  '0.108*\"tuna\" + 0.108*\"shark\" + 0.107*\"salmon\" + 0.107*\"whale\" + 0.107*\"stringray\" + 0.030*\"crow\" + 0.030*\"pidgeon\" + 0.030*\"rat\" + 0.030*\"raven\" + 0.029*\"wolf\"')]"
      ]
     },
     "execution_count": 7,
     "metadata": {},
     "output_type": "execute_result"
    }
   ],
   "source": [
    "lda_model.print_topics()"
   ]
  },
  {
   "cell_type": "code",
   "execution_count": 14,
   "metadata": {},
   "outputs": [],
   "source": [
    "# Try TFIDF\n",
    "tfidf = models.TfidfModel(docs_bow)\n",
    "docs_tfidf = tfidf[docs_bow]\n",
    "tfidf_model = gensim.models.LdaMulticore(docs_tfidf, num_topics=3, id2word=dct)"
   ]
  },
  {
   "cell_type": "code",
   "execution_count": 15,
   "metadata": {},
   "outputs": [
    {
     "name": "stdout",
     "output_type": "stream",
     "text": [
      "['cat', 'dog', 'possum', 'wolf', 'rat'] >>>>> [(0, 0.056555387), (1, 0.88662046), (2, 0.056824137)]\n",
      "['cat', 'possum', 'wolf', 'fox', 'rabbit', 'rat'] >>>>> [(0, 0.04854632), (1, 0.9026757), (2, 0.048777964)]\n",
      "['tuna', 'whale', 'shark', 'salmon', 'stringray'] >>>>> [(0, 0.057446647), (1, 0.87425447), (2, 0.06829886)]\n",
      "['tuna', 'shark', 'salmon', 'eel', 'stingray'] >>>>> [(0, 0.056884717), (1, 0.060229216), (2, 0.8828861)]\n",
      "['pidgeon', 'hawk', 'sparrow', 'crow', 'parrot'] >>>>> [(0, 0.8869137), (1, 0.056311637), (2, 0.05677466)]\n",
      "['pidgeon', 'crow', 'raven', 'parrot', 'eagle'] >>>>> [(0, 0.8869467), (1, 0.05627355), (2, 0.056779798)]\n"
     ]
    }
   ],
   "source": [
    "# Finds 'birds' (topic 0) and 'animals' (topic 1), but wrongly assigns one of the 'sea creatures' doc to 'animals'.\n",
    "for i, db in enumerate(docs_bow):\n",
    "    print(docs[i], '>>>>>', tfidf_model[db])"
   ]
  },
  {
   "cell_type": "code",
   "execution_count": 11,
   "metadata": {},
   "outputs": [
    {
     "data": {
      "text/plain": [
       "[(0,\n",
       "  '0.073*\"shark\" + 0.072*\"tuna\" + 0.072*\"salmon\" + 0.065*\"stingray\" + 0.065*\"raven\" + 0.064*\"stringray\" + 0.064*\"eagle\" + 0.064*\"eel\" + 0.063*\"whale\" + 0.051*\"crow\"'),\n",
       " (1,\n",
       "  '0.097*\"dog\" + 0.075*\"cat\" + 0.074*\"wolf\" + 0.074*\"possum\" + 0.073*\"rat\" + 0.040*\"salmon\" + 0.039*\"tuna\" + 0.039*\"parrot\" + 0.038*\"crow\" + 0.038*\"whale\"'),\n",
       " (2,\n",
       "  '0.075*\"sparrow\" + 0.072*\"fox\" + 0.072*\"hawk\" + 0.070*\"rabbit\" + 0.058*\"parrot\" + 0.058*\"pidgeon\" + 0.057*\"crow\" + 0.056*\"cat\" + 0.056*\"rat\" + 0.056*\"wolf\"')]"
      ]
     },
     "execution_count": 11,
     "metadata": {},
     "output_type": "execute_result"
    }
   ],
   "source": [
    "tfidf_model.print_topics()  # Looks better"
   ]
  },
  {
   "cell_type": "code",
   "execution_count": null,
   "metadata": {},
   "outputs": [],
   "source": []
  }
 ],
 "metadata": {
  "kernelspec": {
   "display_name": "Python 3",
   "language": "python",
   "name": "python3"
  },
  "language_info": {
   "codemirror_mode": {
    "name": "ipython",
    "version": 3
   },
   "file_extension": ".py",
   "mimetype": "text/x-python",
   "name": "python",
   "nbconvert_exporter": "python",
   "pygments_lexer": "ipython3",
   "version": "3.6.6"
  }
 },
 "nbformat": 4,
 "nbformat_minor": 2
}
